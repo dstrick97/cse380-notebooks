{
  "nbformat": 4,
  "nbformat_minor": 0,
  "metadata": {
    "colab": {
      "name": "08_1_About_Encryption_Resembling_Scrambling.ipynb",
      "provenance": [],
      "include_colab_link": true
    },
    "kernelspec": {
      "name": "python3",
      "display_name": "Python 3"
    }
  },
  "cells": [
    {
      "cell_type": "markdown",
      "metadata": {
        "id": "view-in-github",
        "colab_type": "text"
      },
      "source": [
        "<a href=\"https://colab.research.google.com/github/dstrick97/cse380-notebooks/blob/master/08_1_About_Encryption_Resembling_Scrambling.ipynb\" target=\"_parent\"><img src=\"https://colab.research.google.com/assets/colab-badge.svg\" alt=\"Open In Colab\"/></a>"
      ]
    },
    {
      "cell_type": "markdown",
      "metadata": {
        "id": "R41Y5Uaav8pu"
      },
      "source": [
        "# About Encryption Resembling Scrambling\n",
        "## Divide Pair Conquer\n",
        "### Due: Monday, 22 February 2021, 11:59 pm"
      ]
    },
    {
      "cell_type": "markdown",
      "metadata": {
        "id": "gSgt80RdwuCJ"
      },
      "source": [
        "## Introduction"
      ]
    },
    {
      "cell_type": "markdown",
      "metadata": {
        "id": "Qdv9SxTAwzAe"
      },
      "source": [
        "### Encryption is Like Scrambling"
      ]
    },
    {
      "cell_type": "markdown",
      "metadata": {
        "id": "33t5wnxNw8Qp"
      },
      "source": [
        "#### Perfect Shuffling"
      ]
    },
    {
      "cell_type": "code",
      "metadata": {
        "id": "jcgt2qMEw-7e"
      },
      "source": [
        "def shuffle(deck):\n",
        "  mid = len(deck) // 2\n",
        "  tuples = list(zip(deck[:mid], deck[mid:]))\n",
        "  return [i for sub in tuples for i in sub]\n",
        "\n",
        "deck0 = ['As', '2s', '3s', '4s', '5s', '6s', '7s', '8s', '9s', '10s', 'Js', 'Qs', 'Ks',\n",
        "         'Ah', '2h', '3h', '4h', '5h', '6h', '7h', '8h', '9h', '10h', 'Jh', 'Qh', 'Kh',\n",
        "         'Ac', '2c', '3c', '4c', '5c', '6c', '7c', '8c', '9c', '10c', 'Jc', 'Qc', 'Kc',\n",
        "         'Ad', '2d', '3d', '4d', '5d', '6d', '7d', '8d', '9d', '10d', 'Jd', 'Qd', 'Kd']\n",
        "\n",
        "deck1 = shuffle(deck0)\n",
        "deck2 = shuffle(deck1)\n",
        "deck3 = shuffle(deck2)\n",
        "deck4 = shuffle(deck3)\n",
        "deck5 = shuffle(deck4)\n",
        "deck6 = shuffle(deck5)\n",
        "deck7 = shuffle(deck6)\n",
        "deck8 = shuffle(deck7)"
      ],
      "execution_count": null,
      "outputs": []
    },
    {
      "cell_type": "code",
      "metadata": {
        "id": "adz3z9-7xH-S"
      },
      "source": [
        "deck0 == deck8"
      ],
      "execution_count": null,
      "outputs": []
    },
    {
      "cell_type": "code",
      "metadata": {
        "id": "LpbepDCuyUnw"
      },
      "source": [
        "deck5"
      ],
      "execution_count": null,
      "outputs": []
    },
    {
      "cell_type": "markdown",
      "metadata": {
        "id": "7FK5C1j5x48S"
      },
      "source": [
        "### What is the PCS Cryptosystem?\n",
        "(Perfect Card Shuffling)\n",
        "\n",
        "1. Get a new deck of cards.\n",
        "2. Choose a number, say 5 (this is your encryption key).\n",
        "3. Write a message, one character per card on your original deck.\n",
        "4. Perfect shuffle the deck 5 times.\n",
        "5. Send the shuffled deck to your friend.\n",
        "6. Your friend does (8 - 5 = 3) perfect shuffles to get the original order back."
      ]
    },
    {
      "cell_type": "markdown",
      "metadata": {
        "id": "UwvpbU4Lwzva"
      },
      "source": [
        "### How Does RSA Scramble?"
      ]
    },
    {
      "cell_type": "markdown",
      "metadata": {
        "id": "u_L0a4HyxZG6"
      },
      "source": [
        "Look at how RSA encryption shuffles/scrambles numbers (say the number 10) with some (very) small primes (say 2 and 11) and the smallest possible encryption exponent (3)."
      ]
    },
    {
      "cell_type": "code",
      "metadata": {
        "id": "5bu0pHFPxUKj"
      },
      "source": [
        "pow(10, 3, 2 * 11)"
      ],
      "execution_count": null,
      "outputs": []
    },
    {
      "cell_type": "markdown",
      "metadata": {
        "id": "FNhZGKBIxz8a"
      },
      "source": [
        "### Alternatively"
      ]
    },
    {
      "cell_type": "markdown",
      "metadata": {
        "id": "RYDJF01vx3Q3"
      },
      "source": [
        "What about with 3 and 11?"
      ]
    },
    {
      "cell_type": "code",
      "metadata": {
        "id": "b9GLFPRWx6pP"
      },
      "source": [
        "pow(10, 3, 33)"
      ],
      "execution_count": null,
      "outputs": []
    },
    {
      "cell_type": "markdown",
      "metadata": {
        "id": "4wxQamU-yACz"
      },
      "source": [
        "### Save Typing"
      ]
    },
    {
      "cell_type": "code",
      "metadata": {
        "id": "mqsYWl5CyCCa"
      },
      "source": [
        "for m in range(22):\n",
        "  c = pow(m, 3, 22)\n",
        "  print(m, c, m == c)"
      ],
      "execution_count": null,
      "outputs": []
    },
    {
      "cell_type": "code",
      "metadata": {
        "id": "NtH0zIouyRrG"
      },
      "source": [
        "for m in range(33):\n",
        "  c = pow(m, 3, 33)\n",
        "  print(m, c, m == c)"
      ],
      "execution_count": null,
      "outputs": []
    },
    {
      "cell_type": "markdown",
      "metadata": {
        "id": "P4XjVdpbyVO6"
      },
      "source": [
        "### Tabulate"
      ]
    },
    {
      "cell_type": "markdown",
      "metadata": {
        "id": "6bgQTBzSyYLV"
      },
      "source": [
        "Count how many scramblings are **not** derangements."
      ]
    },
    {
      "cell_type": "markdown",
      "metadata": {
        "id": "AXZC_waAyfWn"
      },
      "source": [
        "#### Definition"
      ]
    },
    {
      "cell_type": "markdown",
      "metadata": {
        "id": "LHLY0n3Ayg-g"
      },
      "source": [
        "A *derangement* is a permutation where no element is left in its original position."
      ]
    },
    {
      "cell_type": "code",
      "metadata": {
        "id": "ZHJpGswbypA_",
        "outputId": "20e52950-1301-4680-98ec-b35b48fc0c94",
        "colab": {
          "base_uri": "https://localhost:8080/"
        }
      },
      "source": [
        "from math import gcd\n",
        "from sympy import prime\n",
        "\n",
        "def find_first_e(n, t):\n",
        "  for e in range(3, n):\n",
        "    if gcd(e, t) == 1:\n",
        "      return e\n",
        "  return None\n",
        "\n",
        "headers = '| p | q | n | t | e | # |/| n |=|   %  |\\n'\\\n",
        "          '|---|---|---|---|---|---|-|---|-|------|'\n",
        "\n",
        "print(headers)\n",
        "\n",
        "for i in range(1, 9):\n",
        "  for j in range(i + 1, 9):\n",
        "    p, q = prime(i), prime(j)\n",
        "    n = p * q\n",
        "    t = (p - 1) * (q - 1)\n",
        "    e = find_first_e(n, t)\n",
        "    num = sum(map(lambda m: m == pow(m, e, n), range(0, n)))\n",
        "    print(f'|{p}|{q}|{n}|{t}|{e}|{num}|/|{n}|=|{num/n/.01:.2f}|')"
      ],
      "execution_count": 1,
      "outputs": [
        {
          "output_type": "stream",
          "text": [
            "| p | q | n | t | e | # |/| n |=|   %  |\n",
            "|---|---|---|---|---|---|-|---|-|------|\n",
            "|2|3|6|2|3|6|/|6|=|100.00|\n",
            "|2|5|10|4|3|6|/|10|=|60.00|\n",
            "|2|7|14|6|5|6|/|14|=|42.86|\n",
            "|2|11|22|10|3|6|/|22|=|27.27|\n",
            "|2|13|26|12|5|10|/|26|=|38.46|\n",
            "|2|17|34|16|3|6|/|34|=|17.65|\n",
            "|2|19|38|18|5|6|/|38|=|15.79|\n",
            "|3|5|15|8|3|9|/|15|=|60.00|\n",
            "|3|7|21|12|5|9|/|21|=|42.86|\n",
            "|3|11|33|20|3|9|/|33|=|27.27|\n",
            "|3|13|39|24|5|15|/|39|=|38.46|\n",
            "|3|17|51|32|3|9|/|51|=|17.65|\n",
            "|3|19|57|36|5|9|/|57|=|15.79|\n",
            "|5|7|35|24|5|15|/|35|=|42.86|\n",
            "|5|11|55|40|3|9|/|55|=|16.36|\n",
            "|5|13|65|48|5|25|/|65|=|38.46|\n",
            "|5|17|85|64|3|9|/|85|=|10.59|\n",
            "|5|19|95|72|5|15|/|95|=|15.79|\n",
            "|7|11|77|60|7|21|/|77|=|27.27|\n",
            "|7|13|91|72|5|15|/|91|=|16.48|\n",
            "|7|17|119|96|5|15|/|119|=|12.61|\n",
            "|7|19|133|108|5|9|/|133|=|6.77|\n",
            "|11|13|143|120|7|21|/|143|=|14.69|\n",
            "|11|17|187|160|3|9|/|187|=|4.81|\n",
            "|11|19|209|180|7|21|/|209|=|10.05|\n",
            "|13|17|221|192|5|25|/|221|=|11.31|\n",
            "|13|19|247|216|5|15|/|247|=|6.07|\n",
            "|17|19|323|288|5|15|/|323|=|4.64|\n"
          ],
          "name": "stdout"
        }
      ]
    },
    {
      "cell_type": "markdown",
      "metadata": {
        "id": "Wc7xgPsR0nGU"
      },
      "source": [
        "## Your DPC Tasks"
      ]
    },
    {
      "cell_type": "markdown",
      "metadata": {
        "id": "kkhscGNe0uBe"
      },
      "source": [
        "### TODO Investigate"
      ]
    },
    {
      "cell_type": "markdown",
      "metadata": {
        "id": "QRnG8WwI0xce"
      },
      "source": [
        "Why is 65537 ($2^{16} + 1$) typically used as **e**, the encryption exponent?"
      ]
    },
    {
      "cell_type": "code",
      "metadata": {
        "id": "CVHEKvBr1BDk",
        "outputId": "a59faee6-5abd-4b1c-a613-36f1666dd36b",
        "colab": {
          "base_uri": "https://localhost:8080/"
        }
      },
      "source": [
        "e = 2 ** 16 + 1\n",
        "(e, bin(e))"
      ],
      "execution_count": 2,
      "outputs": [
        {
          "output_type": "execute_result",
          "data": {
            "text/plain": [
              "(65537, '0b10000000000000001')"
            ]
          },
          "metadata": {
            "tags": []
          },
          "execution_count": 2
        }
      ]
    },
    {
      "cell_type": "markdown",
      "metadata": {
        "id": "ns_Abc6U2jGD"
      },
      "source": [
        "This is used because it is a commonly known prime that is large enough to avoid attacks that would cripple a small exponent. It is also extremely easy to compute on a binary computer."
      ]
    },
    {
      "cell_type": "markdown",
      "metadata": {
        "id": "EIGjniwq09De"
      },
      "source": [
        "### TODO Explore"
      ]
    },
    {
      "cell_type": "markdown",
      "metadata": {
        "id": "acs-QjkD1PP6"
      },
      "source": [
        "The book gives some very vague constraints on **p** and **q**, the two primes used in RSA.\n",
        "\n",
        "Research the criteria the security community uses to judge the goodness (suitability) of these two primes, that in practice are randomly chosen.\n",
        "\n",
        "What is bad about the choice of **p** and **q** in this next cell?"
      ]
    },
    {
      "cell_type": "code",
      "metadata": {
        "id": "K1CkvoOi1hIB",
        "outputId": "afcb2a52-aa31-4fe9-f4d4-d6149ed347f7",
        "colab": {
          "base_uri": "https://localhost:8080/"
        }
      },
      "source": [
        "p = 5179195214309\n",
        "q = 5179195214311\n",
        "n = p * q\n",
        "t = (p - 1) * (q - 1)\n",
        "e = 65537\n",
        "d = 17826498662743824930707633\n",
        "m = 5179195214304\n",
        "c = pow(m, e, n)\n",
        "m_again = pow(c, d, n)\n",
        "(c, m_again, m == m_again)"
      ],
      "execution_count": 3,
      "outputs": [
        {
          "output_type": "execute_result",
          "data": {
            "text/plain": [
              "(8966759170151112623516383, 5179195214304, True)"
            ]
          },
          "metadata": {
            "tags": []
          },
          "execution_count": 3
        }
      ]
    },
    {
      "cell_type": "markdown",
      "metadata": {
        "id": "qHAdA42C50cp"
      },
      "source": [
        "Because p+1 = q-1 there is an insecurity. The factors being the same for the two keys creates a security risk.\r\n",
        "\r\n",
        "Reference: https://people.csail.mit.edu/rivest/pubs/RS01.version-1999-11-22.pdf"
      ]
    },
    {
      "cell_type": "markdown",
      "metadata": {
        "id": "OCGpVDCv141v"
      },
      "source": [
        "### Bonus"
      ]
    },
    {
      "cell_type": "markdown",
      "metadata": {
        "id": "F8zaiIcQ16F3"
      },
      "source": [
        "From Wikipedia:\n",
        "\n",
        "\n",
        "\n",
        "> The earliest known statement of the [Chinese Remainder Theorem], as a problem with specific numbers, appears in the 3rd-century book *Sun-tzu Suan-ching* by the Chinese mathematician Sun-tzu:\n",
        "\n",
        "> There are certain things whose number is unknown. If we count them by threes,we have two left over; by fives, we have three left over; and by sevens, two are left over. How many things are there?\n",
        "\n",
        "\n"
      ]
    },
    {
      "cell_type": "markdown",
      "metadata": {
        "id": "UQGbqaRl2M8D"
      },
      "source": [
        "Can you solve this by hand?\n",
        "  \n",
        "That is, with just pencil and paper?"
      ]
    },
    {
      "cell_type": "markdown",
      "metadata": {
        "id": "qjkhcHRi2Vg8"
      },
      "source": [
        "How about this one?\n",
        "\n",
        "Find all solutions, if any, to the system of congruences:\n",
        "\n",
        "$x \\equiv_{6} 5$\n",
        "\n",
        "$x \\equiv_{10} 3$\n",
        "\n",
        "$x \\equiv_{15} 8$\n"
      ]
    },
    {
      "cell_type": "markdown",
      "metadata": {
        "id": "cPtcNhGG2Yt5"
      },
      "source": [
        "Challenge yourselves to figure this out without using a computer.\n",
        "\n",
        "(You can use a calculator, but not its programmability, if it has it!)"
      ]
    },
    {
      "cell_type": "markdown",
      "metadata": {
        "id": "AwQuIgw35KrD"
      },
      "source": [
        "#### Hint"
      ]
    },
    {
      "cell_type": "markdown",
      "metadata": {
        "id": "9QqSobla5MWE"
      },
      "source": [
        "You cannot apply the Chinese Remainder Theorem directly, because the moduli are not pairwise coprime. Try using that consequence of the CRT that you used last week to translate these congruences into a set of congruences that together are equivalent to the given ones."
      ]
    }
  ]
}