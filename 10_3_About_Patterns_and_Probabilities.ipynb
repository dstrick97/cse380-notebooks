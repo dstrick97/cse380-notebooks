{
  "nbformat": 4,
  "nbformat_minor": 0,
  "metadata": {
    "colab": {
      "name": "10_3_About_Patterns_and_Probabilities.ipynb",
      "provenance": [],
      "include_colab_link": true
    },
    "kernelspec": {
      "name": "python3",
      "display_name": "Python 3"
    }
  },
  "cells": [
    {
      "cell_type": "markdown",
      "metadata": {
        "id": "view-in-github",
        "colab_type": "text"
      },
      "source": [
        "<a href=\"https://colab.research.google.com/github/dstrick97/cse380-notebooks/blob/master/10_3_About_Patterns_and_Probabilities.ipynb\" target=\"_parent\"><img src=\"https://colab.research.google.com/assets/colab-badge.svg\" alt=\"Open In Colab\"/></a>"
      ]
    },
    {
      "cell_type": "markdown",
      "metadata": {
        "id": "ORT063X6qemA"
      },
      "source": [
        "# About Patterns and Probabilities\n",
        "## Class Directed Learning\n",
        "### Due: Tuesday, 9 March 2021, 11:59 pm"
      ]
    },
    {
      "cell_type": "markdown",
      "metadata": {
        "id": "3uLuCScqqu_B"
      },
      "source": [
        "## TODO Explore and Wonder"
      ]
    },
    {
      "cell_type": "markdown",
      "metadata": {
        "id": "NxqhXwDAq2-t"
      },
      "source": [
        "Regarding spanning trees of ladder graphs:\n",
        "\n",
        "What is the probability ($\\lim_{n \\rightarrow \\infty} P(n)$) that a randomly-selected spanning tree of an $n$-rung ladder graph contains the bottom rung?\n",
        "\n",
        "| n | P(n) |\n",
        "|---|------|\n",
        "| 1 |      |\n",
        "| 2 |      |\n",
        "| 3 |      |\n",
        "| 4 |      |\n",
        "| 5 |      |\n"
      ]
    },
    {
      "cell_type": "markdown",
      "metadata": {
        "id": "Lz9CsGQ2KggD"
      },
      "source": [
        "The rate of growth averages 73%.\r\n",
        "\r\n",
        "$\\lim_{n \\rightarrow \\infty} P(n)$ = 0.73205"
      ]
    },
    {
      "cell_type": "markdown",
      "metadata": {
        "id": "5I1vmRcJrWuL"
      },
      "source": [
        "### Recurrence Relations"
      ]
    },
    {
      "cell_type": "markdown",
      "metadata": {
        "id": "6DLWZ6IbrZxo"
      },
      "source": [
        "Let $f(n) =$ NSTIBR$(n)$:\n",
        "\n",
        "$f(n) = 4f(n-1) - f(n-2)$ for $n > 1$;\n",
        "\n",
        "$f(0) = 1$,\n",
        "\n",
        "$f(1) = 1$.\n",
        "\n",
        "Let $g(n) =$ NST$(n)$:\n",
        "\n",
        "$g(n) = 4g(n-1) - g(n-2)$ for $n > 1$;\n",
        "\n",
        "$g(0) = 0$,\n",
        "\n",
        "$g(1) = 1$."
      ]
    },
    {
      "cell_type": "markdown",
      "metadata": {
        "id": "Pnza6EawsXDG"
      },
      "source": [
        "#### TODO Check Recurrences"
      ]
    },
    {
      "cell_type": "markdown",
      "metadata": {
        "id": "qZYRsZH7tDn6"
      },
      "source": [
        "Check the calculations in this table (maybe write recursive functions) to verify they are accurate.\n",
        "\n",
        "Do they match what you found yesterday in your DPC?"
      ]
    },
    {
      "cell_type": "markdown",
      "metadata": {
        "id": "YBgTCBGysYf5"
      },
      "source": [
        "| n | f(n) | f(n-1) | 4f(n-1)  | f(n - 2) | diff |\n",
        "|---|-----:|-------:|---------:|---------:|-----:|\n",
        "| 0 |    1 |    N/A |      N/A |      N/A |  N/A |\n",
        "| 1 |    1 |      1 |        4 |      N/A |  N/A |\n",
        "| 2 |    3 |      1 |        4 |        1 |    3 |\n",
        "| 3 |   11 |      3 |       12 |        1 |   11 |\n",
        "| 4 |   41 |     11 |       44 |        3 |   41 |\n",
        "| 5 |  153 |     41 |      164 |       11 |  153 |"
      ]
    },
    {
      "cell_type": "markdown",
      "metadata": {
        "id": "4fqIc8DMsiHo"
      },
      "source": [
        "| n | g(n) | g(n-1) | 4g(n-1)  | g(n - 2) | diff |\n",
        "|---|-----:|-------:|---------:|---------:|-----:|\n",
        "| 0 |    0 |    N/A |      N/A |      N/A |  N/A |\n",
        "| 1 |    1 |      0 |        0 |      N/A |  N/A |\n",
        "| 2 |    4 |      1 |        4 |        0 |    4 |\n",
        "| 3 |   15 |      4 |       16 |        1 |   15 |\n",
        "| 4 |   56 |     15 |       60 |        4 |   56 |\n",
        "| 5 |  209 |     56 |      224 |       15 |  209 |"
      ]
    },
    {
      "cell_type": "code",
      "metadata": {
        "id": "vsfK_TuyHMDy"
      },
      "source": [
        "#Thank you Bretton!\r\n",
        "def NST(n):\r\n",
        "  if n == 1:\r\n",
        "    return 1\r\n",
        "  elif n <= 0:\r\n",
        "    return 0\r\n",
        "  else:\r\n",
        "    return 4 * NST(n-1) - NST(n-2)\r\n",
        "\r\n",
        "def NSTIBR(n):\r\n",
        "  if n <= 1:\r\n",
        "    return 1\r\n",
        "  else:\r\n",
        "    return 4 * NSTIBR(n-1) - NSTIBR(n-2)\r\n"
      ],
      "execution_count": 9,
      "outputs": []
    },
    {
      "cell_type": "code",
      "metadata": {
        "id": "NJb4JOH1HQIS",
        "outputId": "0f95b1e6-c090-4071-98f5-a97408b3e3e8",
        "colab": {
          "base_uri": "https://localhost:8080/"
        }
      },
      "source": [
        "for n in range(1, 10):\r\n",
        "  print(\"NST:\", NST(n))\r\n",
        "  print(\"NSTIBR:\", NSTIBR(n))"
      ],
      "execution_count": 28,
      "outputs": [
        {
          "output_type": "stream",
          "text": [
            "NST: 1\n",
            "NSTIBR: 1\n",
            "NST: 4\n",
            "NSTIBR: 3\n",
            "NST: 15\n",
            "NSTIBR: 11\n",
            "NST: 56\n",
            "NSTIBR: 41\n",
            "NST: 209\n",
            "NSTIBR: 153\n",
            "NST: 780\n",
            "NSTIBR: 571\n",
            "NST: 2911\n",
            "NSTIBR: 2131\n",
            "NST: 10864\n",
            "NSTIBR: 7953\n",
            "NST: 40545\n",
            "NSTIBR: 29681\n"
          ],
          "name": "stdout"
        }
      ]
    },
    {
      "cell_type": "markdown",
      "metadata": {
        "id": "n1o1Dnn5slb9"
      },
      "source": [
        "### TODO Find closed-form formulas"
      ]
    },
    {
      "cell_type": "markdown",
      "metadata": {
        "id": "K1JrJf4pst3x"
      },
      "source": [
        "Can you find closed-form formulas for $f(n)$ and $g(n)$?\n",
        "\n",
        "A closed-form formula expressing these functions in terms of operations on $n$, **without** referring to previous calculated values of the functions."
      ]
    },
    {
      "cell_type": "code",
      "metadata": {
        "id": "IljN71S-GWwD"
      },
      "source": [
        "#thank you Jack!\r\n",
        "import math\r\n",
        "def g(n):\r\n",
        "  return int(1/ (2 * math.sqrt(3)) * (2 + math.sqrt(3)) ** n - 1/ (2 * math.sqrt(3)) * (2 - math.sqrt(3)) ** n)\r\n",
        "\r\n",
        "def f(n):\r\n",
        "  return int(1/ (2 * math.sqrt(3)) * (2 + math.sqrt(3)) ** n - 1/ (2 * math.sqrt(3)) * (2 - math.sqrt(3)) ** n) - int(1/ (2 * math.sqrt(3)) * (2 + math.sqrt(3)) ** (n-1) - 1/ (2 * math.sqrt(3)) * (2 - math.sqrt(3)) ** (n-1))\r\n"
      ],
      "execution_count": 20,
      "outputs": []
    },
    {
      "cell_type": "code",
      "metadata": {
        "id": "KqYmyqITGtR2",
        "outputId": "ae9a02c1-97d1-4068-ebc2-a4cd59ff34fd",
        "colab": {
          "base_uri": "https://localhost:8080/"
        }
      },
      "source": [
        "for n in range(1, 10):\r\n",
        "  print(\"NST:\", g(n))\r\n",
        "  print(\"NSTIBR:\", f(n))"
      ],
      "execution_count": 29,
      "outputs": [
        {
          "output_type": "stream",
          "text": [
            "NST: 1\n",
            "NSTIBR: 1\n",
            "NST: 4\n",
            "NSTIBR: 3\n",
            "NST: 15\n",
            "NSTIBR: 11\n",
            "NST: 56\n",
            "NSTIBR: 41\n",
            "NST: 209\n",
            "NSTIBR: 153\n",
            "NST: 780\n",
            "NSTIBR: 571\n",
            "NST: 2911\n",
            "NSTIBR: 2131\n",
            "NST: 10863\n",
            "NSTIBR: 7952\n",
            "NST: 40545\n",
            "NSTIBR: 29682\n"
          ],
          "name": "stdout"
        }
      ]
    },
    {
      "cell_type": "markdown",
      "metadata": {
        "id": "pBhSqKKI2b6u"
      },
      "source": [
        "#### Hint:"
      ]
    },
    {
      "cell_type": "markdown",
      "metadata": {
        "id": "7ovCUy-52dUh"
      },
      "source": [
        "http://www.ist.tugraz.at/aichholzer/teaching/eca/spanning_trees_in_ladders.pdf"
      ]
    },
    {
      "cell_type": "markdown",
      "metadata": {
        "id": "ZyzBmWV_teue"
      },
      "source": [
        "#### Possibly Illuminating Calculations"
      ]
    },
    {
      "cell_type": "markdown",
      "metadata": {
        "id": "GnSc0aQ-qaNI"
      },
      "source": [
        "Remember continued fractions?"
      ]
    },
    {
      "cell_type": "code",
      "metadata": {
        "id": "8X1u-ZeFqQsn"
      },
      "source": [
        "from fractions import Fraction as frac\n",
        "\n",
        "def contfrac2frac(seq):\n",
        "    \"\"\"Convert the simple continued fraction in `seq`\n",
        "       into a fraction with numerator num and denominator den.\n",
        "    \"\"\"\n",
        "    num, den = 1, 0\n",
        "    for u in reversed(seq):\n",
        "        num, den = den + num * u, num\n",
        "    return frac(num, den)\n",
        "\n",
        "def frac2contfrac(f):\n",
        "    \"\"\"Build the simple continued fraction expansion of fraction f.\n",
        "    \"\"\"\n",
        "    seq = []\n",
        "    frac2contfrac_rec(f, seq)\n",
        "    return seq\n",
        "\n",
        "def frac2contfrac_rec(f, seq):\n",
        "    n = f.numerator\n",
        "    d = f.denominator\n",
        "    if d != 0:\n",
        "        seq.append(n // d)\n",
        "        if n % d != 0:\n",
        "            frac2contfrac_rec(frac(d, n % d), seq)\n",
        "\n",
        "def eval_frac(f):\n",
        "    \"\"\"Evaluate the fraction f as a float.\n",
        "    \"\"\"\n",
        "    return f.numerator / f.denominator"
      ],
      "execution_count": 11,
      "outputs": []
    },
    {
      "cell_type": "code",
      "metadata": {
        "id": "YYH6Mf1ztnfu",
        "outputId": "676e2178-f3b9-4049-8138-fc219f1a57ed",
        "colab": {
          "base_uri": "https://localhost:8080/"
        }
      },
      "source": [
        "from math import sqrt\n",
        "\n",
        "value = sqrt(3) - 1\n",
        "value_as_cf = frac2contfrac(frac.from_float(value))[:21]\n",
        "cf_to_value = contfrac2frac(value_as_cf)\n",
        "print(value, value_as_cf, cf_to_value)\n",
        "print(eval_frac(cf_to_value))"
      ],
      "execution_count": 12,
      "outputs": [
        {
          "output_type": "stream",
          "text": [
            "0.7320508075688772 [0, 1, 2, 1, 2, 1, 2, 1, 2, 1, 2, 1, 2, 1, 2, 1, 2, 1, 2, 1, 2] 302632/413403\n",
            "0.732050807565499\n"
          ],
          "name": "stdout"
        }
      ]
    },
    {
      "cell_type": "code",
      "metadata": {
        "id": "yviS2YG_t2rx",
        "outputId": "02cf82ea-71dc-4ddf-f279-5043903fe875",
        "colab": {
          "base_uri": "https://localhost:8080/"
        }
      },
      "source": [
        "from pprint import pprint\n",
        "\n",
        "pprint(list(map(lambda n: contfrac2frac(value_as_cf[:n]), range(20, 5, -1))))"
      ],
      "execution_count": 13,
      "outputs": [
        {
          "output_type": "stream",
          "text": [
            "[Fraction(110771, 151316),\n",
            " Fraction(81090, 110771),\n",
            " Fraction(29681, 40545),\n",
            " Fraction(21728, 29681),\n",
            " Fraction(7953, 10864),\n",
            " Fraction(5822, 7953),\n",
            " Fraction(2131, 2911),\n",
            " Fraction(1560, 2131),\n",
            " Fraction(571, 780),\n",
            " Fraction(418, 571),\n",
            " Fraction(153, 209),\n",
            " Fraction(112, 153),\n",
            " Fraction(41, 56),\n",
            " Fraction(30, 41),\n",
            " Fraction(11, 15)]\n"
          ],
          "name": "stdout"
        }
      ]
    }
  ]
}