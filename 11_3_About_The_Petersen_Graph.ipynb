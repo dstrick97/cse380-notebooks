{
  "nbformat": 4,
  "nbformat_minor": 0,
  "metadata": {
    "colab": {
      "name": "11_3_About_The_Petersen_Graph.ipynb",
      "provenance": [],
      "include_colab_link": true
    },
    "kernelspec": {
      "name": "python3",
      "display_name": "Python 3"
    }
  },
  "cells": [
    {
      "cell_type": "markdown",
      "metadata": {
        "id": "view-in-github",
        "colab_type": "text"
      },
      "source": [
        "<a href=\"https://colab.research.google.com/github/dstrick97/cse380-notebooks/blob/master/11_3_About_The_Petersen_Graph.ipynb\" target=\"_parent\"><img src=\"https://colab.research.google.com/assets/colab-badge.svg\" alt=\"Open In Colab\"/></a>"
      ]
    },
    {
      "cell_type": "markdown",
      "metadata": {
        "id": "0lYSr_8JNUpQ"
      },
      "source": [
        "# About The Petersen Graph\n",
        "## Class Directed Learning\n",
        "### Due: Tuesday, 16 March 2021, 11:59 pm"
      ]
    },
    {
      "cell_type": "markdown",
      "metadata": {
        "id": "0PuwZHqzNfTa"
      },
      "source": [
        "## TODO Explore and Wonder"
      ]
    },
    {
      "cell_type": "markdown",
      "metadata": {
        "id": "Gsu1FnbuNptP"
      },
      "source": [
        "The Petersen graph is described as the complement of the line graph of $K_5$.\n",
        "\n",
        "Draw each step of this construction using any graph-drawing tools in your toolbox.\n",
        "\n",
        "Teach one another how to use the tools you each have."
      ]
    },
    {
      "cell_type": "markdown",
      "metadata": {
        "id": "qNWEYhNJNM2K"
      },
      "source": [
        "### Classes and Functions"
      ]
    },
    {
      "cell_type": "code",
      "metadata": {
        "id": "8RfyvCXb9xxG"
      },
      "source": [
        "class GraphNode():\r\n",
        "  def __init__(self, value = 0, links = []):\r\n",
        "    self.value = value\r\n",
        "    self.links = links\r\n",
        "\r\n",
        "  def is_link(self, neighbor_value):\r\n",
        "    if neighbor_value in links:\r\n",
        "      return True\r\n",
        "    return False\r\n",
        "\r\n",
        "  def add_link(self, neighbor_value):\r\n",
        "    if not neighbor_value in self.links:\r\n",
        "      self.links.append(neighbor_value)\r\n",
        "\r\n",
        "  def remove_link(self, neighbor_value):\r\n",
        "    link.remove(neighbor_value)\r\n",
        "\r\n",
        "  def __eq__(self, node):\r\n",
        "    return self.value == node.value and set(self.links) == set(node.links)"
      ],
      "execution_count": null,
      "outputs": []
    },
    {
      "cell_type": "code",
      "metadata": {
        "id": "lZwPqtLd9zbe"
      },
      "source": [
        "class Graph():\r\n",
        "  def __init__(self, nodes = [], links = []):\r\n",
        "    self.nodes = []\r\n",
        "    for node in nodes:\r\n",
        "      adjacent_nodes = [link[1] for link in links if link[0] == node] + [link[0] for link in links if link[1] == node]\r\n",
        "      self.nodes.append(GraphNode(node, adjacent_nodes))\r\n",
        "\r\n",
        "  def get_node(self, node_value):\r\n",
        "    return next(graphNode for graphNode in self.nodes if graphNode.value == node_value)\r\n",
        "\r\n",
        "  def get_nodes(self):\r\n",
        "    return [node.value for node in self.nodes]\r\n",
        "\r\n",
        "  def get_links(self):\r\n",
        "    links = [str(adj_list[0]) + str(adjacent_node) for adj_list in self.get_adjacency_list() for adjacent_node in adj_list[1]]\r\n",
        "    return list(set((link[:len(link)//2], link[len(link)//2:]) if link[:len(link)//2] < link[len(link)//2:] else (link[len(link)//2:], link[:len(link)//2]) for link in links))\r\n",
        "\r\n",
        "  def get_adjacent_nodes(self, node_value):\r\n",
        "    node = self.get_node(node_value)\r\n",
        "    return (node.value, node.links)\r\n",
        "\r\n",
        "  def get_adjacency_list(self):\r\n",
        "    return [(graphNode.value, graphNode.links) for graphNode in self.nodes]\r\n",
        "\r\n",
        "  def is_adjacent(self, node_from, node_to):\r\n",
        "    self.add_node(node_from)\r\n",
        "    node = self.get_node(node_from)\r\n",
        "    return node.is_link(node_to)\r\n",
        "\r\n",
        "  def add_node(self, node_value, links = []):\r\n",
        "    if not node_value in self.get_nodes():\r\n",
        "      self.nodes.append(GraphNode(node_value, links))\r\n",
        "\r\n",
        "  def add_link(self, node_from, node_to):\r\n",
        "    self.add_node(node_from)\r\n",
        "    node = self.get_node(node_from)\r\n",
        "    if not node.is_link(node_to):\r\n",
        "      node.add_link(node_to)\r\n",
        "    self.add_node(node_to)\r\n",
        "    node = self.get_node(node_to)\r\n",
        "    if not node.is_link(node_from):\r\n",
        "      node.add_link(node_from)"
      ],
      "execution_count": null,
      "outputs": []
    },
    {
      "cell_type": "code",
      "metadata": {
        "id": "C58RYDaw560d"
      },
      "source": [
        "# https://graphviz.org/\r\n",
        "# https://pypi.org/project/pygraphviz/\r\n",
        "import graphviz\r\n",
        "\r\n",
        "def display_links(links, engine = 'fdp'):\r\n",
        "  graphic = graphviz.Graph(format='png')\r\n",
        "  graphic.edges(links)\r\n",
        "  graphic.engine = engine\r\n",
        "  return graphic\r\n",
        "\r\n",
        "def display_graph(graph, engine = 'fdp'):\r\n",
        "  graphic = graphviz.Graph(format='png')\r\n",
        "  graphic.edges([link[:len(link)//2] + link[len(link)//2:] for link in graph.get_links()])\r\n",
        "  graphic.engine = engine\r\n",
        "  return graphic"
      ],
      "execution_count": null,
      "outputs": []
    },
    {
      "cell_type": "markdown",
      "metadata": {
        "id": "tfainDciNRG8"
      },
      "source": [
        "### $K_5$ Graph"
      ]
    },
    {
      "cell_type": "code",
      "metadata": {
        "colab": {
          "base_uri": "https://localhost:8080/",
          "height": 462
        },
        "id": "7K2qVRcU9aUk",
        "outputId": "b407b107-786e-438e-863f-fc80a3e6f52d"
      },
      "source": [
        "nodes = ['a', 'b', 'c', 'd', 'e']\r\n",
        "links = [\r\n",
        "  ('a', 'b'), ('a', 'c'), ('a', 'd'), ('a', 'e'), ('b', 'c'), ('b', 'd'),\r\n",
        "  ('b', 'e'), ('c', 'd'), ('c', 'e'), ('d', 'e')\r\n",
        "]\r\n",
        "\r\n",
        "k5 = Graph(nodes, links)\r\n",
        "display_graph(k5, 'sfdp')"
      ],
      "execution_count": null,
      "outputs": [
        {
          "output_type": "execute_result",
          "data": {
            "text/plain": [
              "<graphviz.dot.Graph at 0x7f3d2e798050>"
            ],
            "image/svg+xml": "<?xml version=\"1.0\" encoding=\"UTF-8\" standalone=\"no\"?>\n<!DOCTYPE svg PUBLIC \"-//W3C//DTD SVG 1.1//EN\"\n \"http://www.w3.org/Graphics/SVG/1.1/DTD/svg11.dtd\">\n<!-- Generated by graphviz version 2.40.1 (20161225.0304)\n -->\n<!-- Title: %3 Pages: 1 -->\n<svg width=\"350pt\" height=\"331pt\"\n viewBox=\"0.00 0.00 350.06 331.47\" xmlns=\"http://www.w3.org/2000/svg\" xmlns:xlink=\"http://www.w3.org/1999/xlink\">\n<g id=\"graph0\" class=\"graph\" transform=\"scale(1 1) rotate(0) translate(4 327.4734)\">\n<title>%3</title>\n<polygon fill=\"#ffffff\" stroke=\"transparent\" points=\"-4,4 -4,-327.4734 346.0641,-327.4734 346.0641,4 -4,4\"/>\n<!-- d -->\n<g id=\"node1\" class=\"node\">\n<title>d</title>\n<ellipse fill=\"none\" stroke=\"#000000\" cx=\"289.6993\" cy=\"-274.676\" rx=\"27\" ry=\"18\"/>\n<text text-anchor=\"middle\" x=\"289.6993\" y=\"-270.976\" font-family=\"Times,serif\" font-size=\"14.00\" fill=\"#000000\">d</text>\n</g>\n<!-- e -->\n<g id=\"node2\" class=\"node\">\n<title>e</title>\n<ellipse fill=\"none\" stroke=\"#000000\" cx=\"112.4282\" cy=\"-305.4734\" rx=\"27\" ry=\"18\"/>\n<text text-anchor=\"middle\" x=\"112.4282\" y=\"-301.7734\" font-family=\"Times,serif\" font-size=\"14.00\" fill=\"#000000\">e</text>\n</g>\n<!-- d&#45;&#45;e -->\n<g id=\"edge1\" class=\"edge\">\n<title>d&#45;&#45;e</title>\n<path fill=\"none\" stroke=\"#000000\" d=\"M263.5424,-279.2203C230.0263,-285.043 172.2602,-295.0788 138.6925,-300.9105\"/>\n</g>\n<!-- b -->\n<g id=\"node3\" class=\"node\">\n<title>b</title>\n<ellipse fill=\"none\" stroke=\"#000000\" cx=\"27\" cy=\"-146.8451\" rx=\"27\" ry=\"18\"/>\n<text text-anchor=\"middle\" x=\"27\" y=\"-143.1451\" font-family=\"Times,serif\" font-size=\"14.00\" fill=\"#000000\">b</text>\n</g>\n<!-- b&#45;&#45;d -->\n<g id=\"edge2\" class=\"edge\">\n<title>b&#45;&#45;d</title>\n<path fill=\"none\" stroke=\"#000000\" d=\"M48.9458,-157.524C98.3949,-181.5863 218.0666,-239.8191 267.6313,-263.9376\"/>\n</g>\n<!-- b&#45;&#45;e -->\n<g id=\"edge4\" class=\"edge\">\n<title>b&#45;&#45;e</title>\n<path fill=\"none\" stroke=\"#000000\" d=\"M36.1423,-163.8211C52.4987,-194.1928 86.5976,-257.5096 103.0926,-288.1386\"/>\n</g>\n<!-- c -->\n<g id=\"node5\" class=\"node\">\n<title>c</title>\n<ellipse fill=\"none\" stroke=\"#000000\" cx=\"315.0641\" cy=\"-95.8285\" rx=\"27\" ry=\"18\"/>\n<text text-anchor=\"middle\" x=\"315.0641\" y=\"-92.1285\" font-family=\"Times,serif\" font-size=\"14.00\" fill=\"#000000\">c</text>\n</g>\n<!-- b&#45;&#45;c -->\n<g id=\"edge10\" class=\"edge\">\n<title>b&#45;&#45;c</title>\n<path fill=\"none\" stroke=\"#000000\" d=\"M53.3274,-142.1825C108.1892,-132.4664 234.1835,-110.1526 288.902,-100.4618\"/>\n</g>\n<!-- a -->\n<g id=\"node4\" class=\"node\">\n<title>a</title>\n<ellipse fill=\"none\" stroke=\"#000000\" cx=\"152.6826\" cy=\"-18\" rx=\"27\" ry=\"18\"/>\n<text text-anchor=\"middle\" x=\"152.6826\" y=\"-14.3\" font-family=\"Times,serif\" font-size=\"14.00\" fill=\"#000000\">a</text>\n</g>\n<!-- a&#45;&#45;d -->\n<g id=\"edge5\" class=\"edge\">\n<title>a&#45;&#45;d</title>\n<path fill=\"none\" stroke=\"#000000\" d=\"M161.8854,-35.2398C186.8461,-81.9991 255.6228,-210.8399 280.5366,-257.5113\"/>\n</g>\n<!-- a&#45;&#45;e -->\n<g id=\"edge7\" class=\"edge\">\n<title>a&#45;&#45;e</title>\n<path fill=\"none\" stroke=\"#000000\" d=\"M150.1645,-35.9828C142.9353,-87.6091 122.1733,-235.8796 114.9453,-287.4975\"/>\n</g>\n<!-- a&#45;&#45;b -->\n<g id=\"edge3\" class=\"edge\">\n<title>a&#45;&#45;b</title>\n<path fill=\"none\" stroke=\"#000000\" d=\"M137.7716,-33.2862C113.5829,-58.0836 66.0678,-106.7942 41.8916,-131.5788\"/>\n</g>\n<!-- a&#45;&#45;c -->\n<g id=\"edge9\" class=\"edge\">\n<title>a&#45;&#45;c</title>\n<path fill=\"none\" stroke=\"#000000\" d=\"M174.9205,-28.6585C206.0163,-43.5626 262.1437,-70.4641 293.0947,-85.2987\"/>\n</g>\n<!-- c&#45;&#45;d -->\n<g id=\"edge6\" class=\"edge\">\n<title>c&#45;&#45;d</title>\n<path fill=\"none\" stroke=\"#000000\" d=\"M312.4924,-113.9616C307.6308,-148.2403 297.1446,-222.1792 292.2778,-256.4949\"/>\n</g>\n<!-- c&#45;&#45;e -->\n<g id=\"edge8\" class=\"edge\">\n<title>c&#45;&#45;e</title>\n<path fill=\"none\" stroke=\"#000000\" d=\"M300.1638,-111.2442C262.5988,-150.1085 164.3697,-251.7353 127.077,-290.3179\"/>\n</g>\n</g>\n</svg>\n"
          },
          "metadata": {
            "tags": []
          },
          "execution_count": 86
        }
      ]
    },
    {
      "cell_type": "markdown",
      "metadata": {
        "id": "YRzq4Ro-Ndn6"
      },
      "source": [
        "### Converting $K_5$ into a line graph"
      ]
    },
    {
      "cell_type": "code",
      "metadata": {
        "colab": {
          "base_uri": "https://localhost:8080/",
          "height": 640
        },
        "id": "2DR7FVYQ-w_0",
        "outputId": "86b13eac-1e93-48b7-d655-19a2f488dead"
      },
      "source": [
        "# Following the steps outlined here:\r\n",
        "# https://en.wikipedia.org/wiki/Line_graph\r\n",
        "\r\n",
        "# I am going to want this:\r\n",
        "def generate_complete_graph_links(nodes):\r\n",
        "  links = []\r\n",
        "  for i in range(len(nodes)):\r\n",
        "    for j in range(i + 1, len(nodes)):\r\n",
        "      # Let's sort these as we go for simplicity\r\n",
        "      links.append((nodes[i], nodes[j]) if nodes[i] < nodes[j] else (nodes[j], nodes[i]))\r\n",
        "  return links\r\n",
        "\r\n",
        "# Step 1: Add verticies constructed from the edges of K5\r\n",
        "verticies = [str(link[0]) + str(link[1]) for link in k5.get_links()]\r\n",
        "line_graph = Graph(verticies)\r\n",
        "\r\n",
        "# Step 2: Add edges\r\n",
        "edges = []\r\n",
        "for node in k5.get_nodes():\r\n",
        "  node_verticies = [vertex for vertex in verticies if node in vertex]\r\n",
        "  edges += generate_complete_graph_links(node_verticies)\r\n",
        "\r\n",
        "# Step 3: Remove original nodes\r\n",
        "# This is fulfilled since we are creating a brand new graph without\r\n",
        "#  any of the previous nodes\r\n",
        "line_graph = Graph(verticies, edges)\r\n",
        "\r\n",
        "# Show results\r\n",
        "print(line_graph.get_nodes())\r\n",
        "print(line_graph.get_links())\r\n",
        "display_graph(line_graph, 'sfdp')"
      ],
      "execution_count": null,
      "outputs": [
        {
          "output_type": "stream",
          "text": [
            "['de', 'bd', 'ab', 'be', 'ad', 'cd', 'ae', 'ce', 'ac', 'bc']\n",
            "[('bc', 'cd'), ('ab', 'bc'), ('ab', 'be'), ('bc', 'be'), ('bd', 'cd'), ('be', 'ce'), ('ac', 'ce'), ('ad', 'de'), ('ae', 'de'), ('bc', 'ce'), ('bd', 'de'), ('cd', 'ce'), ('ac', 'ad'), ('cd', 'de'), ('ab', 'ac'), ('ab', 'bd'), ('bc', 'bd'), ('ad', 'cd'), ('be', 'de'), ('ad', 'bd'), ('ae', 'ce'), ('ac', 'bc'), ('ac', 'ae'), ('ce', 'de'), ('bd', 'be'), ('ab', 'ae'), ('ae', 'be'), ('ad', 'ae'), ('ab', 'ad'), ('ac', 'cd')]\n"
          ],
          "name": "stdout"
        },
        {
          "output_type": "execute_result",
          "data": {
            "text/plain": [
              "<graphviz.dot.Graph at 0x7f3d2e79b7d0>"
            ],
            "image/svg+xml": "<?xml version=\"1.0\" encoding=\"UTF-8\" standalone=\"no\"?>\n<!DOCTYPE svg PUBLIC \"-//W3C//DTD SVG 1.1//EN\"\n \"http://www.w3.org/Graphics/SVG/1.1/DTD/svg11.dtd\">\n<!-- Generated by graphviz version 2.40.1 (20161225.0304)\n -->\n<!-- Title: %3 Pages: 1 -->\n<svg width=\"443pt\" height=\"424pt\"\n viewBox=\"0.00 0.00 442.98 424.09\" xmlns=\"http://www.w3.org/2000/svg\" xmlns:xlink=\"http://www.w3.org/1999/xlink\">\n<g id=\"graph0\" class=\"graph\" transform=\"scale(1 1) rotate(0) translate(4 420.0858)\">\n<title>%3</title>\n<polygon fill=\"#ffffff\" stroke=\"transparent\" points=\"-4,4 -4,-420.0858 438.9751,-420.0858 438.9751,4 -4,4\"/>\n<!-- bc -->\n<g id=\"node1\" class=\"node\">\n<title>bc</title>\n<ellipse fill=\"none\" stroke=\"#000000\" cx=\"178.0499\" cy=\"-156.9604\" rx=\"27\" ry=\"18\"/>\n<text text-anchor=\"middle\" x=\"178.0499\" y=\"-153.2604\" font-family=\"Times,serif\" font-size=\"14.00\" fill=\"#000000\">bc</text>\n</g>\n<!-- cd -->\n<g id=\"node2\" class=\"node\">\n<title>cd</title>\n<ellipse fill=\"none\" stroke=\"#000000\" cx=\"27\" cy=\"-155.1988\" rx=\"27\" ry=\"18\"/>\n<text text-anchor=\"middle\" x=\"27\" y=\"-151.4988\" font-family=\"Times,serif\" font-size=\"14.00\" fill=\"#000000\">cd</text>\n</g>\n<!-- bc&#45;&#45;cd -->\n<g id=\"edge1\" class=\"edge\">\n<title>bc&#45;&#45;cd</title>\n<path fill=\"none\" stroke=\"#000000\" d=\"M151.0452,-156.6454C123.6361,-156.3258 81.4416,-155.8337 54.0251,-155.514\"/>\n</g>\n<!-- be -->\n<g id=\"node4\" class=\"node\">\n<title>be</title>\n<ellipse fill=\"none\" stroke=\"#000000\" cx=\"272.4765\" cy=\"-291.0123\" rx=\"27\" ry=\"18\"/>\n<text text-anchor=\"middle\" x=\"272.4765\" y=\"-287.3123\" font-family=\"Times,serif\" font-size=\"14.00\" fill=\"#000000\">be</text>\n</g>\n<!-- bc&#45;&#45;be -->\n<g id=\"edge4\" class=\"edge\">\n<title>bc&#45;&#45;be</title>\n<path fill=\"none\" stroke=\"#000000\" d=\"M189.6285,-173.3978C207.7515,-199.1259 242.6221,-248.6297 260.8033,-274.4405\"/>\n</g>\n<!-- bd -->\n<g id=\"node5\" class=\"node\">\n<title>bd</title>\n<ellipse fill=\"none\" stroke=\"#000000\" cx=\"126.8784\" cy=\"-18\" rx=\"27\" ry=\"18\"/>\n<text text-anchor=\"middle\" x=\"126.8784\" y=\"-14.3\" font-family=\"Times,serif\" font-size=\"14.00\" fill=\"#000000\">bd</text>\n</g>\n<!-- bc&#45;&#45;bd -->\n<g id=\"edge17\" class=\"edge\">\n<title>bc&#45;&#45;bd</title>\n<path fill=\"none\" stroke=\"#000000\" d=\"M171.569,-139.3609C161.7797,-112.7774 143.3215,-62.6526 133.4683,-35.8955\"/>\n</g>\n<!-- ce -->\n<g id=\"node6\" class=\"node\">\n<title>ce</title>\n<ellipse fill=\"none\" stroke=\"#000000\" cx=\"178.5474\" cy=\"-398.0858\" rx=\"27\" ry=\"18\"/>\n<text text-anchor=\"middle\" x=\"178.5474\" y=\"-394.3858\" font-family=\"Times,serif\" font-size=\"14.00\" fill=\"#000000\">ce</text>\n</g>\n<!-- bc&#45;&#45;ce -->\n<g id=\"edge10\" class=\"edge\">\n<title>bc&#45;&#45;ce</title>\n<path fill=\"none\" stroke=\"#000000\" d=\"M178.0873,-175.084C178.1797,-219.8794 178.4181,-335.4105 178.5103,-380.0808\"/>\n</g>\n<!-- cd&#45;&#45;ce -->\n<g id=\"edge12\" class=\"edge\">\n<title>cd&#45;&#45;ce</title>\n<path fill=\"none\" stroke=\"#000000\" d=\"M37.4165,-171.8934C65.1018,-216.265 140.2895,-336.7694 168.0581,-381.2743\"/>\n</g>\n<!-- de -->\n<g id=\"node9\" class=\"node\">\n<title>de</title>\n<ellipse fill=\"none\" stroke=\"#000000\" cx=\"105.7991\" cy=\"-272.2988\" rx=\"27\" ry=\"18\"/>\n<text text-anchor=\"middle\" x=\"105.7991\" y=\"-268.5988\" font-family=\"Times,serif\" font-size=\"14.00\" fill=\"#000000\">de</text>\n</g>\n<!-- cd&#45;&#45;de -->\n<g id=\"edge14\" class=\"edge\">\n<title>cd&#45;&#45;de</title>\n<path fill=\"none\" stroke=\"#000000\" d=\"M38.1229,-171.728C53.1409,-194.0457 79.744,-233.5793 94.7329,-255.8536\"/>\n</g>\n<!-- ab -->\n<g id=\"node3\" class=\"node\">\n<title>ab</title>\n<ellipse fill=\"none\" stroke=\"#000000\" cx=\"407.9751\" cy=\"-64.0534\" rx=\"27\" ry=\"18\"/>\n<text text-anchor=\"middle\" x=\"407.9751\" y=\"-60.3534\" font-family=\"Times,serif\" font-size=\"14.00\" fill=\"#000000\">ab</text>\n</g>\n<!-- ab&#45;&#45;bc -->\n<g id=\"edge2\" class=\"edge\">\n<title>ab&#45;&#45;bc</title>\n<path fill=\"none\" stroke=\"#000000\" d=\"M384.6633,-73.4731C340.5948,-91.2801 245.5395,-129.6895 201.4234,-147.5157\"/>\n</g>\n<!-- ab&#45;&#45;be -->\n<g id=\"edge3\" class=\"edge\">\n<title>ab&#45;&#45;be</title>\n<path fill=\"none\" stroke=\"#000000\" d=\"M397.7907,-81.1122C372.6182,-123.2759 307.6964,-232.0193 282.5943,-274.0652\"/>\n</g>\n<!-- ab&#45;&#45;bd -->\n<g id=\"edge16\" class=\"edge\">\n<title>ab&#45;&#45;bd</title>\n<path fill=\"none\" stroke=\"#000000\" d=\"M381.5302,-59.7208C327.9555,-50.9434 207.1449,-31.1504 153.4578,-22.3546\"/>\n</g>\n<!-- ac -->\n<g id=\"node7\" class=\"node\">\n<title>ac</title>\n<ellipse fill=\"none\" stroke=\"#000000\" cx=\"323.4997\" cy=\"-179.8242\" rx=\"27\" ry=\"18\"/>\n<text text-anchor=\"middle\" x=\"323.4997\" y=\"-176.1242\" font-family=\"Times,serif\" font-size=\"14.00\" fill=\"#000000\">ac</text>\n</g>\n<!-- ab&#45;&#45;ac -->\n<g id=\"edge15\" class=\"edge\">\n<title>ab&#45;&#45;ac</title>\n<path fill=\"none\" stroke=\"#000000\" d=\"M395.8718,-80.6405C379.8131,-102.6486 351.628,-141.2753 335.5805,-163.2678\"/>\n</g>\n<!-- ad -->\n<g id=\"node8\" class=\"node\">\n<title>ad</title>\n<ellipse fill=\"none\" stroke=\"#000000\" cx=\"261.5504\" cy=\"-31.3924\" rx=\"27\" ry=\"18\"/>\n<text text-anchor=\"middle\" x=\"261.5504\" y=\"-27.6924\" font-family=\"Times,serif\" font-size=\"14.00\" fill=\"#000000\">ad</text>\n</g>\n<!-- ab&#45;&#45;ad -->\n<g id=\"edge29\" class=\"edge\">\n<title>ab&#45;&#45;ad</title>\n<path fill=\"none\" stroke=\"#000000\" d=\"M382.1344,-58.2895C355.5337,-52.356 314.3115,-43.1611 287.6254,-37.2086\"/>\n</g>\n<!-- ae -->\n<g id=\"node10\" class=\"node\">\n<title>ae</title>\n<ellipse fill=\"none\" stroke=\"#000000\" cx=\"405.605\" cy=\"-295.5658\" rx=\"27\" ry=\"18\"/>\n<text text-anchor=\"middle\" x=\"405.605\" y=\"-291.8658\" font-family=\"Times,serif\" font-size=\"14.00\" fill=\"#000000\">ae</text>\n</g>\n<!-- ab&#45;&#45;ae -->\n<g id=\"edge26\" class=\"edge\">\n<title>ab&#45;&#45;ae</title>\n<path fill=\"none\" stroke=\"#000000\" d=\"M407.7891,-82.2198C407.3461,-125.4976 406.2323,-234.2914 405.7901,-277.4838\"/>\n</g>\n<!-- be&#45;&#45;ce -->\n<g id=\"edge6\" class=\"edge\">\n<title>be&#45;&#45;ce</title>\n<path fill=\"none\" stroke=\"#000000\" d=\"M258.617,-306.8114C240.8581,-327.0554 210.2501,-361.9467 192.4638,-382.2219\"/>\n</g>\n<!-- be&#45;&#45;de -->\n<g id=\"edge19\" class=\"edge\">\n<title>be&#45;&#45;de</title>\n<path fill=\"none\" stroke=\"#000000\" d=\"M245.6969,-288.0057C214.5931,-284.5135 163.5877,-278.7869 132.5123,-275.2979\"/>\n</g>\n<!-- bd&#45;&#45;cd -->\n<g id=\"edge5\" class=\"edge\">\n<title>bd&#45;&#45;cd</title>\n<path fill=\"none\" stroke=\"#000000\" d=\"M115.0289,-34.2773C95.8064,-60.6824 58.0467,-112.5512 38.8342,-138.9427\"/>\n</g>\n<!-- bd&#45;&#45;be -->\n<g id=\"edge25\" class=\"edge\">\n<title>bd&#45;&#45;be</title>\n<path fill=\"none\" stroke=\"#000000\" d=\"M135.9863,-35.0781C162.1337,-84.1074 237.229,-224.9194 263.3722,-273.9406\"/>\n</g>\n<!-- bd&#45;&#45;de -->\n<g id=\"edge11\" class=\"edge\">\n<title>bd&#45;&#45;de</title>\n<path fill=\"none\" stroke=\"#000000\" d=\"M125.3625,-36.2885C121.4732,-83.2086 111.1755,-207.4385 107.3014,-254.1759\"/>\n</g>\n<!-- ce&#45;&#45;de -->\n<g id=\"edge24\" class=\"edge\">\n<title>ce&#45;&#45;de</title>\n<path fill=\"none\" stroke=\"#000000\" d=\"M168.7363,-381.1216C154.8518,-357.1143 129.6135,-313.4755 115.6872,-289.3959\"/>\n</g>\n<!-- ac&#45;&#45;bc -->\n<g id=\"edge22\" class=\"edge\">\n<title>ac&#45;&#45;bc</title>\n<path fill=\"none\" stroke=\"#000000\" d=\"M297.1599,-175.6837C270.9632,-171.5658 230.985,-165.2814 204.6853,-161.1473\"/>\n</g>\n<!-- ac&#45;&#45;cd -->\n<g id=\"edge30\" class=\"edge\">\n<title>ac&#45;&#45;cd</title>\n<path fill=\"none\" stroke=\"#000000\" d=\"M296.6644,-177.5954C240.3568,-172.9189 110.429,-162.1279 53.9883,-157.4403\"/>\n</g>\n<!-- ac&#45;&#45;ce -->\n<g id=\"edge7\" class=\"edge\">\n<title>ac&#45;&#45;ce</title>\n<path fill=\"none\" stroke=\"#000000\" d=\"M312.3662,-196.5884C285.3184,-237.3156 216.4018,-341.0866 189.5204,-381.5632\"/>\n</g>\n<!-- ac&#45;&#45;ad -->\n<g id=\"edge13\" class=\"edge\">\n<title>ac&#45;&#45;ad</title>\n<path fill=\"none\" stroke=\"#000000\" d=\"M316.1501,-162.2142C304.2274,-133.6472 280.8071,-77.5317 268.8905,-48.9794\"/>\n</g>\n<!-- ac&#45;&#45;ae -->\n<g id=\"edge23\" class=\"edge\">\n<title>ac&#45;&#45;ae</title>\n<path fill=\"none\" stroke=\"#000000\" d=\"M335.2634,-196.4071C350.8716,-218.4096 378.2659,-257.0267 393.8631,-279.0136\"/>\n</g>\n<!-- ad&#45;&#45;cd -->\n<g id=\"edge18\" class=\"edge\">\n<title>ad&#45;&#45;cd</title>\n<path fill=\"none\" stroke=\"#000000\" d=\"M240.322,-42.5977C195.779,-66.1096 92.9977,-120.3622 48.3495,-143.9295\"/>\n</g>\n<!-- ad&#45;&#45;bd -->\n<g id=\"edge20\" class=\"edge\">\n<title>ad&#45;&#45;bd</title>\n<path fill=\"none\" stroke=\"#000000\" d=\"M234.6212,-28.7144C211.1329,-26.3786 177.2355,-23.0077 153.761,-20.6733\"/>\n</g>\n<!-- ad&#45;&#45;de -->\n<g id=\"edge8\" class=\"edge\">\n<title>ad&#45;&#45;de</title>\n<path fill=\"none\" stroke=\"#000000\" d=\"M250.845,-47.9509C222.3917,-91.9607 145.1183,-211.4824 116.5795,-255.6244\"/>\n</g>\n<!-- ad&#45;&#45;ae -->\n<g id=\"edge28\" class=\"edge\">\n<title>ad&#45;&#45;ae</title>\n<path fill=\"none\" stroke=\"#000000\" d=\"M270.7808,-48.3195C296.7379,-95.9208 370.1748,-230.5925 396.265,-278.4378\"/>\n</g>\n<!-- ae&#45;&#45;be -->\n<g id=\"edge27\" class=\"edge\">\n<title>ae&#45;&#45;be</title>\n<path fill=\"none\" stroke=\"#000000\" d=\"M378.3432,-294.6334C355.3697,-293.8476 322.6651,-292.729 299.7019,-291.9435\"/>\n</g>\n<!-- ae&#45;&#45;ce -->\n<g id=\"edge21\" class=\"edge\">\n<title>ae&#45;&#45;ce</title>\n<path fill=\"none\" stroke=\"#000000\" d=\"M383.0037,-305.7706C339.4814,-325.4216 244.5075,-368.3038 201.0573,-387.9222\"/>\n</g>\n<!-- ae&#45;&#45;de -->\n<g id=\"edge9\" class=\"edge\">\n<title>ae&#45;&#45;de</title>\n<path fill=\"none\" stroke=\"#000000\" d=\"M378.7354,-293.4806C321.8199,-289.0635 189.6736,-278.808 132.7163,-274.3877\"/>\n</g>\n</g>\n</svg>\n"
          },
          "metadata": {
            "tags": []
          },
          "execution_count": 107
        }
      ]
    },
    {
      "cell_type": "markdown",
      "metadata": {
        "id": "YkB8mpblN2HC"
      },
      "source": [
        "### Complementing the line graph"
      ]
    },
    {
      "cell_type": "code",
      "metadata": {
        "id": "lu7sATTrN5zo",
        "colab": {
          "base_uri": "https://localhost:8080/",
          "height": 676
        },
        "outputId": "163ef6df-d01c-4baa-e3a6-c90eeb39d3db"
      },
      "source": [
        "# I will need this:\r\n",
        "def display_graph_as_peterson(graph):\r\n",
        "  graphic = graphviz.Graph(format='png')\r\n",
        "  nodes = graph.get_nodes()\r\n",
        "  # Display the first 5 nodes in a pentagon shape\r\n",
        "  graphic.node(nodes[0], pos='7,8!')\r\n",
        "  graphic.node(nodes[1], pos='4,6!')\r\n",
        "  graphic.node(nodes[2], pos='10,6!')\r\n",
        "  graphic.node(nodes[3], pos='5,3!')\r\n",
        "  graphic.node(nodes[4], pos='9,3!')\r\n",
        "  graphic.edges([link[:len(link)//2] + link[len(link)//2:] for link in graph.get_links()])\r\n",
        "  graphic.engine = 'neato'\r\n",
        "  return graphic\r\n",
        "\r\n",
        "complete_graph_links = generate_complete_graph_links(line_graph.get_nodes())\r\n",
        "complement_links = list(set(complete_graph_links).difference(set(line_graph.get_links())))\r\n",
        "\r\n",
        "print(f'{len(set(complete_graph_links))} - {len(set(line_graph.get_links()))} = {len(complement_links)}')\r\n",
        "print(complement_links)\r\n",
        "\r\n",
        "complement = Graph(line_graph.get_nodes(), complement_links)\r\n",
        "display_graph_as_peterson(complement)"
      ],
      "execution_count": null,
      "outputs": [
        {
          "output_type": "stream",
          "text": [
            "45 - 30 = 15\n",
            "[('ab', 'cd'), ('ab', 'de'), ('ae', 'bd'), ('bc', 'de'), ('ae', 'cd'), ('ac', 'bd'), ('bd', 'ce'), ('ae', 'bc'), ('ac', 'be'), ('ad', 'ce'), ('be', 'cd'), ('ac', 'de'), ('ad', 'bc'), ('ab', 'ce'), ('ad', 'be')]\n"
          ],
          "name": "stdout"
        },
        {
          "output_type": "execute_result",
          "data": {
            "text/plain": [
              "<graphviz.dot.Graph at 0x7f3d2e83c090>"
            ],
            "image/svg+xml": "<?xml version=\"1.0\" encoding=\"UTF-8\" standalone=\"no\"?>\n<!DOCTYPE svg PUBLIC \"-//W3C//DTD SVG 1.1//EN\"\n \"http://www.w3.org/Graphics/SVG/1.1/DTD/svg11.dtd\">\n<!-- Generated by graphviz version 2.40.1 (20161225.0304)\n -->\n<!-- Title: %3 Pages: 1 -->\n<svg width=\"597pt\" height=\"466pt\"\n viewBox=\"0.00 0.00 596.88 465.85\" xmlns=\"http://www.w3.org/2000/svg\" xmlns:xlink=\"http://www.w3.org/1999/xlink\">\n<g id=\"graph0\" class=\"graph\" transform=\"scale(1 1) rotate(0) translate(4 461.8544)\">\n<title>%3</title>\n<polygon fill=\"#ffffff\" stroke=\"transparent\" points=\"-4,4 -4,-461.8544 592.8824,-461.8544 592.8824,4 -4,4\"/>\n<!-- de -->\n<g id=\"node1\" class=\"node\">\n<title>de</title>\n<ellipse fill=\"none\" stroke=\"#000000\" cx=\"345.8824\" cy=\"-439.8544\" rx=\"27\" ry=\"18\"/>\n<text text-anchor=\"middle\" x=\"345.8824\" y=\"-436.1544\" font-family=\"Times,serif\" font-size=\"14.00\" fill=\"#000000\">de</text>\n</g>\n<!-- bd -->\n<g id=\"node2\" class=\"node\">\n<title>bd</title>\n<ellipse fill=\"none\" stroke=\"#000000\" cx=\"129.8824\" cy=\"-295.8543\" rx=\"27\" ry=\"18\"/>\n<text text-anchor=\"middle\" x=\"129.8824\" y=\"-292.1543\" font-family=\"Times,serif\" font-size=\"14.00\" fill=\"#000000\">bd</text>\n</g>\n<!-- ce -->\n<g id=\"node10\" class=\"node\">\n<title>ce</title>\n<ellipse fill=\"none\" stroke=\"#000000\" cx=\"110.0325\" cy=\"-58.6526\" rx=\"27\" ry=\"18\"/>\n<text text-anchor=\"middle\" x=\"110.0325\" y=\"-54.9526\" font-family=\"Times,serif\" font-size=\"14.00\" fill=\"#000000\">ce</text>\n</g>\n<!-- bd&#45;&#45;ce -->\n<g id=\"edge7\" class=\"edge\">\n<title>bd&#45;&#45;ce</title>\n<path fill=\"none\" stroke=\"#000000\" d=\"M128.3578,-277.6354C124.6629,-233.4825 115.2625,-121.1504 111.5623,-76.9336\"/>\n</g>\n<!-- ab -->\n<g id=\"node3\" class=\"node\">\n<title>ab</title>\n<ellipse fill=\"none\" stroke=\"#000000\" cx=\"561.8824\" cy=\"-295.8543\" rx=\"27\" ry=\"18\"/>\n<text text-anchor=\"middle\" x=\"561.8824\" y=\"-292.1543\" font-family=\"Times,serif\" font-size=\"14.00\" fill=\"#000000\">ab</text>\n</g>\n<!-- ab&#45;&#45;de -->\n<g id=\"edge4\" class=\"edge\">\n<title>ab&#45;&#45;de</title>\n<path fill=\"none\" stroke=\"#000000\" d=\"M542.7139,-308.6334C501.7242,-335.9599 405.9594,-399.803 365.008,-427.104\"/>\n</g>\n<!-- cd -->\n<g id=\"node6\" class=\"node\">\n<title>cd</title>\n<ellipse fill=\"none\" stroke=\"#000000\" cx=\"78.9665\" cy=\"-27.152\" rx=\"27\" ry=\"18\"/>\n<text text-anchor=\"middle\" x=\"78.9665\" y=\"-23.452\" font-family=\"Times,serif\" font-size=\"14.00\" fill=\"#000000\">cd</text>\n</g>\n<!-- ab&#45;&#45;cd -->\n<g id=\"edge1\" class=\"edge\">\n<title>ab&#45;&#45;cd</title>\n<path fill=\"none\" stroke=\"#000000\" d=\"M541.1321,-284.3085C461.9682,-240.2604 179.4056,-83.038 99.9107,-38.8057\"/>\n</g>\n<!-- ab&#45;&#45;ce -->\n<g id=\"edge14\" class=\"edge\">\n<title>ab&#45;&#45;ce</title>\n<path fill=\"none\" stroke=\"#000000\" d=\"M540.3927,-284.5732C464.1881,-244.569 207.3871,-109.7596 131.3906,-69.8647\"/>\n</g>\n<!-- be -->\n<g id=\"node4\" class=\"node\">\n<title>be</title>\n<ellipse fill=\"none\" stroke=\"#000000\" cx=\"201.8824\" cy=\"-79.8544\" rx=\"27\" ry=\"18\"/>\n<text text-anchor=\"middle\" x=\"201.8824\" y=\"-76.1544\" font-family=\"Times,serif\" font-size=\"14.00\" fill=\"#000000\">be</text>\n</g>\n<!-- be&#45;&#45;cd -->\n<g id=\"edge11\" class=\"edge\">\n<title>be&#45;&#45;cd</title>\n<path fill=\"none\" stroke=\"#000000\" d=\"M179.051,-70.065C156.9733,-60.5988 123.7119,-46.3374 101.6757,-36.889\"/>\n</g>\n<!-- ad -->\n<g id=\"node5\" class=\"node\">\n<title>ad</title>\n<ellipse fill=\"none\" stroke=\"#000000\" cx=\"489.8824\" cy=\"-79.8544\" rx=\"27\" ry=\"18\"/>\n<text text-anchor=\"middle\" x=\"489.8824\" y=\"-76.1544\" font-family=\"Times,serif\" font-size=\"14.00\" fill=\"#000000\">ad</text>\n</g>\n<!-- ad&#45;&#45;be -->\n<g id=\"edge15\" class=\"edge\">\n<title>ad&#45;&#45;be</title>\n<path fill=\"none\" stroke=\"#000000\" d=\"M462.7881,-79.8544C407.8977,-79.8544 284.1201,-79.8544 229.1146,-79.8544\"/>\n</g>\n<!-- bc -->\n<g id=\"node7\" class=\"node\">\n<title>bc</title>\n<ellipse fill=\"none\" stroke=\"#000000\" cx=\"102.8619\" cy=\"-18\" rx=\"27\" ry=\"18\"/>\n<text text-anchor=\"middle\" x=\"102.8619\" y=\"-14.3\" font-family=\"Times,serif\" font-size=\"14.00\" fill=\"#000000\">bc</text>\n</g>\n<!-- ad&#45;&#45;bc -->\n<g id=\"edge13\" class=\"edge\">\n<title>ad&#45;&#45;bc</title>\n<path fill=\"none\" stroke=\"#000000\" d=\"M463.5852,-75.6515C392.9801,-64.3672 199.8423,-33.4996 129.1953,-22.2087\"/>\n</g>\n<!-- ad&#45;&#45;ce -->\n<g id=\"edge10\" class=\"edge\">\n<title>ad&#45;&#45;ce</title>\n<path fill=\"none\" stroke=\"#000000\" d=\"M462.8691,-78.3466C393.0382,-74.4489 207.1219,-64.0718 137.1622,-60.1669\"/>\n</g>\n<!-- bc&#45;&#45;de -->\n<g id=\"edge2\" class=\"edge\">\n<title>bc&#45;&#45;de</title>\n<path fill=\"none\" stroke=\"#000000\" d=\"M112.6896,-35.0597C151.9389,-103.1918 297.2098,-355.3646 336.1987,-423.0446\"/>\n</g>\n<!-- ae -->\n<g id=\"node8\" class=\"node\">\n<title>ae</title>\n<ellipse fill=\"none\" stroke=\"#000000\" cx=\"27\" cy=\"-26.6798\" rx=\"27\" ry=\"18\"/>\n<text text-anchor=\"middle\" x=\"27\" y=\"-22.9798\" font-family=\"Times,serif\" font-size=\"14.00\" fill=\"#000000\">ae</text>\n</g>\n<!-- ae&#45;&#45;bd -->\n<g id=\"edge3\" class=\"edge\">\n<title>ae&#45;&#45;bd</title>\n<path fill=\"none\" stroke=\"#000000\" d=\"M33.7504,-44.3411C52.3921,-93.1139 104.4358,-229.2776 123.1072,-278.128\"/>\n</g>\n<!-- ae&#45;&#45;cd -->\n<g id=\"edge5\" class=\"edge\">\n<title>ae&#45;&#45;cd</title>\n<path fill=\"none\" stroke=\"#000000\" d=\"M54.2008,-26.9269C54.2991,-26.9278 54.3973,-26.9287 54.4954,-26.9296\"/>\n</g>\n<!-- ae&#45;&#45;bc -->\n<g id=\"edge8\" class=\"edge\">\n<title>ae&#45;&#45;bc</title>\n<path fill=\"none\" stroke=\"#000000\" d=\"M53.9597,-23.5952C61.1996,-22.7668 69.023,-21.8717 76.2442,-21.0455\"/>\n</g>\n<!-- ac -->\n<g id=\"node9\" class=\"node\">\n<title>ac</title>\n<ellipse fill=\"none\" stroke=\"#000000\" cx=\"60.9952\" cy=\"-77.9153\" rx=\"27\" ry=\"18\"/>\n<text text-anchor=\"middle\" x=\"60.9952\" y=\"-74.2153\" font-family=\"Times,serif\" font-size=\"14.00\" fill=\"#000000\">ac</text>\n</g>\n<!-- ac&#45;&#45;de -->\n<g id=\"edge12\" class=\"edge\">\n<title>ac&#45;&#45;de</title>\n<path fill=\"none\" stroke=\"#000000\" d=\"M73.6041,-93.9343C120.662,-153.7198 285.7423,-363.4485 333.096,-423.6096\"/>\n</g>\n<!-- ac&#45;&#45;bd -->\n<g id=\"edge6\" class=\"edge\">\n<title>ac&#45;&#45;bd</title>\n<path fill=\"none\" stroke=\"#000000\" d=\"M66.6326,-95.7501C79.5823,-136.7194 111.3322,-237.1669 124.2638,-278.0787\"/>\n</g>\n<!-- ac&#45;&#45;be -->\n<g id=\"edge9\" class=\"edge\">\n<title>ac&#45;&#45;be</title>\n<path fill=\"none\" stroke=\"#000000\" d=\"M88.1597,-78.2891C113.1076,-78.6325 149.8798,-79.1386 174.8013,-79.4816\"/>\n</g>\n</g>\n</svg>\n"
          },
          "metadata": {
            "tags": []
          },
          "execution_count": 114
        }
      ]
    },
    {
      "cell_type": "markdown",
      "metadata": {
        "id": "x6LF_fuHN6qK"
      },
      "source": [
        "### Peterson Graph"
      ]
    },
    {
      "cell_type": "code",
      "metadata": {
        "colab": {
          "base_uri": "https://localhost:8080/",
          "height": 621
        },
        "id": "Rxn4Vch-6kJF",
        "outputId": "13eda560-5101-4c6a-d622-5ed20066d02a"
      },
      "source": [
        "# Compare the above graph with the Peterson graph.\r\n",
        "# They should be identical (except for the node names).\r\n",
        "\r\n",
        "peterson = ['af', 'ac', 'ad', 'bg', 'bd', 'be', 'ch', 'ce', 'di', 'ej', 'fg', 'fj', 'gh', 'hi', 'ij']\r\n",
        "display_links(peterson, 'sfdp')"
      ],
      "execution_count": null,
      "outputs": [
        {
          "output_type": "execute_result",
          "data": {
            "text/plain": [
              "<graphviz.dot.Graph at 0x7f3d2e866590>"
            ],
            "image/svg+xml": "<?xml version=\"1.0\" encoding=\"UTF-8\" standalone=\"no\"?>\n<!DOCTYPE svg PUBLIC \"-//W3C//DTD SVG 1.1//EN\"\n \"http://www.w3.org/Graphics/SVG/1.1/DTD/svg11.dtd\">\n<!-- Generated by graphviz version 2.40.1 (20161225.0304)\n -->\n<!-- Title: %3 Pages: 1 -->\n<svg width=\"473pt\" height=\"450pt\"\n viewBox=\"0.00 0.00 472.83 449.73\" xmlns=\"http://www.w3.org/2000/svg\" xmlns:xlink=\"http://www.w3.org/1999/xlink\">\n<g id=\"graph0\" class=\"graph\" transform=\"scale(1 1) rotate(0) translate(4 445.7317)\">\n<title>%3</title>\n<polygon fill=\"#ffffff\" stroke=\"transparent\" points=\"-4,4 -4,-445.7317 468.8264,-445.7317 468.8264,4 -4,4\"/>\n<!-- a -->\n<g id=\"node1\" class=\"node\">\n<title>a</title>\n<ellipse fill=\"none\" stroke=\"#000000\" cx=\"171.3579\" cy=\"-91.673\" rx=\"27\" ry=\"18\"/>\n<text text-anchor=\"middle\" x=\"171.3579\" y=\"-87.973\" font-family=\"Times,serif\" font-size=\"14.00\" fill=\"#000000\">a</text>\n</g>\n<!-- f -->\n<g id=\"node2\" class=\"node\">\n<title>f</title>\n<ellipse fill=\"none\" stroke=\"#000000\" cx=\"27\" cy=\"-262.4085\" rx=\"27\" ry=\"18\"/>\n<text text-anchor=\"middle\" x=\"27\" y=\"-258.7085\" font-family=\"Times,serif\" font-size=\"14.00\" fill=\"#000000\">f</text>\n</g>\n<!-- a&#45;&#45;f -->\n<g id=\"edge1\" class=\"edge\">\n<title>a&#45;&#45;f</title>\n<path fill=\"none\" stroke=\"#000000\" d=\"M158.0358,-107.4294C130.535,-139.9552 67.7631,-214.197 40.2899,-246.6903\"/>\n</g>\n<!-- c -->\n<g id=\"node3\" class=\"node\">\n<title>c</title>\n<ellipse fill=\"none\" stroke=\"#000000\" cx=\"423.9072\" cy=\"-68.4172\" rx=\"27\" ry=\"18\"/>\n<text text-anchor=\"middle\" x=\"423.9072\" y=\"-64.7172\" font-family=\"Times,serif\" font-size=\"14.00\" fill=\"#000000\">c</text>\n</g>\n<!-- a&#45;&#45;c -->\n<g id=\"edge2\" class=\"edge\">\n<title>a&#45;&#45;c</title>\n<path fill=\"none\" stroke=\"#000000\" d=\"M198.3851,-89.1842C246.9937,-84.7081 348.6074,-75.3511 397.0744,-70.8881\"/>\n</g>\n<!-- d -->\n<g id=\"node4\" class=\"node\">\n<title>d</title>\n<ellipse fill=\"none\" stroke=\"#000000\" cx=\"146.9988\" cy=\"-255.0056\" rx=\"27\" ry=\"18\"/>\n<text text-anchor=\"middle\" x=\"146.9988\" y=\"-251.3056\" font-family=\"Times,serif\" font-size=\"14.00\" fill=\"#000000\">d</text>\n</g>\n<!-- a&#45;&#45;d -->\n<g id=\"edge3\" class=\"edge\">\n<title>a&#45;&#45;d</title>\n<path fill=\"none\" stroke=\"#000000\" d=\"M168.658,-109.7765C163.9757,-141.1724 154.4016,-205.3688 149.7109,-236.821\"/>\n</g>\n<!-- g -->\n<g id=\"node6\" class=\"node\">\n<title>g</title>\n<ellipse fill=\"none\" stroke=\"#000000\" cx=\"235.801\" cy=\"-423.7317\" rx=\"27\" ry=\"18\"/>\n<text text-anchor=\"middle\" x=\"235.801\" y=\"-420.0317\" font-family=\"Times,serif\" font-size=\"14.00\" fill=\"#000000\">g</text>\n</g>\n<!-- f&#45;&#45;g -->\n<g id=\"edge11\" class=\"edge\">\n<title>f&#45;&#45;g</title>\n<path fill=\"none\" stroke=\"#000000\" d=\"M44.8023,-276.1628C84.2506,-306.6413 178.6373,-379.5661 218.0438,-410.0122\"/>\n</g>\n<!-- j -->\n<g id=\"node10\" class=\"node\">\n<title>j</title>\n<ellipse fill=\"none\" stroke=\"#000000\" cx=\"65.9483\" cy=\"-64.2988\" rx=\"27\" ry=\"18\"/>\n<text text-anchor=\"middle\" x=\"65.9483\" y=\"-60.5988\" font-family=\"Times,serif\" font-size=\"14.00\" fill=\"#000000\">j</text>\n</g>\n<!-- f&#45;&#45;j -->\n<g id=\"edge12\" class=\"edge\">\n<title>f&#45;&#45;j</title>\n<path fill=\"none\" stroke=\"#000000\" d=\"M30.5251,-244.4782C37.9217,-206.8556 54.989,-120.0429 62.4031,-82.3314\"/>\n</g>\n<!-- e -->\n<g id=\"node7\" class=\"node\">\n<title>e</title>\n<ellipse fill=\"none\" stroke=\"#000000\" cx=\"283.0457\" cy=\"-18\" rx=\"27\" ry=\"18\"/>\n<text text-anchor=\"middle\" x=\"283.0457\" y=\"-14.3\" font-family=\"Times,serif\" font-size=\"14.00\" fill=\"#000000\">e</text>\n</g>\n<!-- c&#45;&#45;e -->\n<g id=\"edge8\" class=\"edge\">\n<title>c&#45;&#45;e</title>\n<path fill=\"none\" stroke=\"#000000\" d=\"M400.012,-59.8646C374.1093,-50.5935 333.0066,-35.882 307.0581,-26.5945\"/>\n</g>\n<!-- h -->\n<g id=\"node8\" class=\"node\">\n<title>h</title>\n<ellipse fill=\"none\" stroke=\"#000000\" cx=\"437.8264\" cy=\"-285.3994\" rx=\"27\" ry=\"18\"/>\n<text text-anchor=\"middle\" x=\"437.8264\" y=\"-281.6994\" font-family=\"Times,serif\" font-size=\"14.00\" fill=\"#000000\">h</text>\n</g>\n<!-- c&#45;&#45;h -->\n<g id=\"edge7\" class=\"edge\">\n<title>c&#45;&#45;h</title>\n<path fill=\"none\" stroke=\"#000000\" d=\"M425.07,-86.5437C427.6901,-127.3873 434.0309,-226.2327 436.6571,-267.1718\"/>\n</g>\n<!-- i -->\n<g id=\"node9\" class=\"node\">\n<title>i</title>\n<ellipse fill=\"none\" stroke=\"#000000\" cx=\"268.4995\" cy=\"-170.631\" rx=\"27\" ry=\"18\"/>\n<text text-anchor=\"middle\" x=\"268.4995\" y=\"-166.931\" font-family=\"Times,serif\" font-size=\"14.00\" fill=\"#000000\">i</text>\n</g>\n<!-- d&#45;&#45;i -->\n<g id=\"edge9\" class=\"edge\">\n<title>d&#45;&#45;i</title>\n<path fill=\"none\" stroke=\"#000000\" d=\"M165.717,-242.007C188.4827,-226.1977 226.6946,-199.6619 249.5598,-183.7834\"/>\n</g>\n<!-- b -->\n<g id=\"node5\" class=\"node\">\n<title>b</title>\n<ellipse fill=\"none\" stroke=\"#000000\" cx=\"292.1711\" cy=\"-288.3855\" rx=\"27\" ry=\"18\"/>\n<text text-anchor=\"middle\" x=\"292.1711\" y=\"-284.6855\" font-family=\"Times,serif\" font-size=\"14.00\" fill=\"#000000\">b</text>\n</g>\n<!-- b&#45;&#45;d -->\n<g id=\"edge5\" class=\"edge\">\n<title>b&#45;&#45;d</title>\n<path fill=\"none\" stroke=\"#000000\" d=\"M266.5514,-282.4947C240.1783,-276.4306 199.3086,-267.0334 172.8508,-260.9498\"/>\n</g>\n<!-- b&#45;&#45;g -->\n<g id=\"edge4\" class=\"edge\">\n<title>b&#45;&#45;g</title>\n<path fill=\"none\" stroke=\"#000000\" d=\"M284.9171,-305.8026C274.0933,-331.7908 253.8347,-380.4322 243.0272,-406.3815\"/>\n</g>\n<!-- b&#45;&#45;e -->\n<g id=\"edge6\" class=\"edge\">\n<title>b&#45;&#45;e</title>\n<path fill=\"none\" stroke=\"#000000\" d=\"M291.5582,-270.2249C289.8958,-220.9681 285.3152,-85.2457 283.6559,-36.0816\"/>\n</g>\n<!-- g&#45;&#45;h -->\n<g id=\"edge13\" class=\"edge\">\n<title>g&#45;&#45;h</title>\n<path fill=\"none\" stroke=\"#000000\" d=\"M254.8071,-410.7178C293.3114,-384.3528 380.1386,-324.8998 418.7237,-298.4795\"/>\n</g>\n<!-- e&#45;&#45;j -->\n<g id=\"edge10\" class=\"edge\">\n<title>e&#45;&#45;j</title>\n<path fill=\"none\" stroke=\"#000000\" d=\"M257.2892,-23.4929C215.5069,-32.4035 133.432,-49.907 91.6712,-58.8131\"/>\n</g>\n<!-- h&#45;&#45;i -->\n<g id=\"edge14\" class=\"edge\">\n<title>h&#45;&#45;i</title>\n<path fill=\"none\" stroke=\"#000000\" d=\"M418.7316,-272.4571C386.1246,-250.3563 320.0838,-205.5944 287.5245,-183.526\"/>\n</g>\n<!-- i&#45;&#45;j -->\n<g id=\"edge15\" class=\"edge\">\n<title>i&#45;&#45;j</title>\n<path fill=\"none\" stroke=\"#000000\" d=\"M247.2058,-159.4526C208.3042,-139.0306 126.176,-95.9162 87.2606,-75.487\"/>\n</g>\n</g>\n</svg>\n"
          },
          "metadata": {
            "tags": []
          },
          "execution_count": 113
        }
      ]
    }
  ]
}