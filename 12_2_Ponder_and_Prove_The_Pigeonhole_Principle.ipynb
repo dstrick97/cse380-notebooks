{
  "nbformat": 4,
  "nbformat_minor": 0,
  "metadata": {
    "colab": {
      "name": "12_2_Ponder_and_Prove_The_Pigeonhole_Principle.ipynb",
      "provenance": [],
      "include_colab_link": true
    },
    "kernelspec": {
      "name": "python3",
      "display_name": "Python 3"
    },
    "language_info": {
      "name": "python"
    }
  },
  "cells": [
    {
      "cell_type": "markdown",
      "metadata": {
        "id": "view-in-github",
        "colab_type": "text"
      },
      "source": [
        "<a href=\"https://colab.research.google.com/github/dstrick97/cse380-notebooks/blob/master/12_2_Ponder_and_Prove_The_Pigeonhole_Principle.ipynb\" target=\"_parent\"><img src=\"https://colab.research.google.com/assets/colab-badge.svg\" alt=\"Open In Colab\"/></a>"
      ]
    },
    {
      "cell_type": "markdown",
      "metadata": {
        "id": "ivY_Ypmxx7Vm"
      },
      "source": [
        "# Ponder and Prove The Pigeonhole Principle\n",
        "## Due: Saturday, 27 March 2021"
      ]
    },
    {
      "cell_type": "markdown",
      "metadata": {
        "id": "zF2K38sxyH5Z"
      },
      "source": [
        "## Exploration"
      ]
    },
    {
      "cell_type": "markdown",
      "metadata": {
        "id": "uBgYLYK5yJzk"
      },
      "source": [
        "You are invited to explore some of the ramifications of the *Pigeonhole Principle*, a fascinating counting principle belonging to combinatorics.\n"
      ]
    },
    {
      "cell_type": "markdown",
      "metadata": {
        "id": "cIS4n3DpyXA1"
      },
      "source": [
        "### Requirements"
      ]
    },
    {
      "cell_type": "markdown",
      "metadata": {
        "id": "FqgealMfyZc8"
      },
      "source": [
        "Read Brother Kent Bessey's essay entitled *Pigeons and Pigeonholes*, think about and explore the topics therein, and write your response thereto.\n",
        "\n",
        "Include in your response a description of a discussion about this essay that you will have had with someone *not in the class* (nor in any of the STEM majors). This person can be a spouse, friend, roommate, or relative. The point is to find someone who is not mathematically strong, and has probably never heard of the Pigeonhole Principle, or combinatorics (or discrete mathematics) in general."
      ]
    },
    {
      "cell_type": "markdown",
      "metadata": {
        "id": "aPEEcqUGzFds"
      },
      "source": [
        "#### Copyright Note"
      ]
    },
    {
      "cell_type": "markdown",
      "metadata": {
        "id": "9EPgpQ0hzHr5"
      },
      "source": [
        "Brother Kent A. Bessey, Professor of Mathematics at BYU-Idaho, holds the copyright to this essay, which means:\n",
        "\n",
        "> All rights reserved (by him). Reproduced by permission (from him).\n",
        "Read-only. Please do not copy, print, transmit or save a copy of\n",
        "this work.\n",
        "\n",
        "He has authorized your temporary use of his work, which [you can find here](https://firstthreeodds.org/17657741833134731255/pigeons-and-pigeonholes.pdf)."
      ]
    },
    {
      "cell_type": "markdown",
      "metadata": {
        "id": "vRKIt3NOzkwH"
      },
      "source": [
        "### TODO Concretize the Abstract by Writing Some Code"
      ]
    },
    {
      "cell_type": "markdown",
      "metadata": {
        "id": "ngXSoVu3znIJ"
      },
      "source": [
        "Specifically, write some Python code to help you figure out the problem on page 40, which Brother Bessey prefaces by saying:\n",
        "\n",
        "> I leave it to the reader to verify the calculations for a final (albeit challenging) exercise ...!\n",
        "\n",
        "Include the results of your grappling with this problem, and note the two stubbed functions below that you must flesh out in order to verify the calculations and explain the hows and whys."
      ]
    },
    {
      "cell_type": "markdown",
      "metadata": {
        "id": "EBQNhzqGzzIF"
      },
      "source": [
        "#### Stub Code"
      ]
    },
    {
      "cell_type": "code",
      "metadata": {
        "id": "fCOUkHjqz10k"
      },
      "source": [
        "def calculate_number_of_possible_initials_including_middle_initial_if_any(n):\n",
        "  return (n * n * (n+1))\n",
        "\n",
        "def pigeonhole_from_pigeon(pigeon_represented_as_a_person_with_traits):\n",
        "  # YOUR CODE GOES HERE\n",
        "  # Get the initials\n",
        "  names = (pigeon_represented_as_a_person_with_traits['Name']).split()\n",
        "  initials = names[0][0].upper()\n",
        "  if len(names) == 3:\n",
        "    initials += names[1][0].upper() + names[2][0].upper()\n",
        "  else:\n",
        "    initials += ' ' + names[1][0].upper()\n",
        "\n",
        "  # Get the binaries\n",
        "  binaries = ''\n",
        "  binary_keys = list(filter(lambda key: key != 'Name', list(pigeon.keys())))\n",
        "  for key in binary_keys:\n",
        "    if pigeon_represented_as_a_person_with_traits[key]:\n",
        "      binaries += '1'\n",
        "    else:\n",
        "      binaries += '0'\n",
        "\n",
        "  # Assert the string is exactly 10 characters long\n",
        "  string = initials + ':' + binaries\n",
        "  assert(len(string) == 10)\n",
        "\n",
        "  # Assert the cardinality of the combinations of the initials and binaries is over 1 million\n",
        "  cardinality = calculate_number_of_possible_initials_including_middle_initial_if_any(26) * 2 ** len(binary_keys)\n",
        "\n",
        "  print(cardinality)\n",
        "  assert(cardinality > 1000000)\n",
        "\n",
        "  # Returns the string 'J D:111001'\n",
        "  return string\n",
        "\n"
      ],
      "execution_count": 8,
      "outputs": []
    },
    {
      "cell_type": "code",
      "metadata": {
        "id": "RBRSInVznMoH",
        "colab": {
          "base_uri": "https://localhost:8080/"
        },
        "outputId": "407aac11-5d41-4da7-c26c-84fe5b96cf17"
      },
      "source": [
        "pigeon = {'Name': 'John Doe', 'LDS': True, 'Likes Cats': True, 'Born Before': True, 'Wears Contacts': False, 'Bites Fingernails': False, 'Lives Close': True}\n",
        "pigeonhole = pigeonhole_from_pigeon(pigeon)\n",
        "print(pigeonhole)\n"
      ],
      "execution_count": 9,
      "outputs": [
        {
          "output_type": "stream",
          "text": [
            "1168128\n",
            "J D:111001\n"
          ],
          "name": "stdout"
        }
      ]
    },
    {
      "cell_type": "code",
      "metadata": {
        "id": "30-e03fnn2kV",
        "colab": {
          "base_uri": "https://localhost:8080/"
        },
        "outputId": "5cb1209c-9868-4fc9-d8c7-6bf4dd4394c6"
      },
      "source": [
        "num_pigeonholes = 26 * 27 * 26 * 2 * 2 * 2 * 2 * 2 * 2\n",
        "# This is the population of Idaho found here: https://www.macrotrends.net/states/idaho/population\n",
        "num_pigeons = 1826913\n",
        "\n",
        "print(num_pigeons, num_pigeonholes, num_pigeons / num_pigeonholes)\n"
      ],
      "execution_count": 10,
      "outputs": [
        {
          "output_type": "stream",
          "text": [
            "1826913 1168128 1.5639664488823142\n"
          ],
          "name": "stdout"
        }
      ]
    },
    {
      "cell_type": "markdown",
      "metadata": {
        "id": "dd8garqdi2lh"
      },
      "source": [
        "Because the number of pigeons divided by the number of pigeon holes is greater than one we know for a fact that there are at least two people with matching information."
      ]
    },
    {
      "cell_type": "markdown",
      "metadata": {
        "id": "JvMpIHMF0JuM"
      },
      "source": [
        "### TODO Find Applications of the Pigeonhole Principle"
      ]
    },
    {
      "cell_type": "markdown",
      "metadata": {
        "id": "9aicPoZG0Lbj"
      },
      "source": [
        "Especially in graph theory --- there are many!"
      ]
    },
    {
      "cell_type": "markdown",
      "metadata": {
        "id": "WxApMZllOK_L"
      },
      "source": [
        "The pumping lemma is an aspect of the Pigeonhole Principle that relates to language and graph theory. Without the Pigeonhole Principle, the pumping lemma could not be proved."
      ]
    },
    {
      "cell_type": "markdown",
      "metadata": {
        "id": "81dbKwHenxnT"
      },
      "source": [
        "## TODO My Report on What I Did and What I Learned"
      ]
    },
    {
      "cell_type": "markdown",
      "metadata": {
        "id": "C8BeiIern33B"
      },
      "source": [
        "### Fun\n"
      ]
    },
    {
      "cell_type": "markdown",
      "metadata": {
        "id": "ElukRLoezyxd"
      },
      "source": [
        "It was fun explaining the pigeonhole principle to my wife. Her first question after I explained the basic principle of multiple pigeons in a single hole was \"Well what if a pigeon is on top?\". We got a good laugh and I switched to the idea of a group of 366 people. It is a fact that at least 2 people share a birthday. I also enjoyed working with Bretton, Claire, and Hannah again as we worked on the code and talked about other applications of the principle."
      ]
    },
    {
      "cell_type": "markdown",
      "metadata": {
        "id": "OzOkZ3son-u9"
      },
      "source": [
        "### New"
      ]
    },
    {
      "cell_type": "markdown",
      "metadata": {
        "id": "3-nYIdEUz4x5"
      },
      "source": [
        "I had never heard of the Pigeonhole Principle. Reading the paper from Brother Bessey was a great chance to learn about it. I also learned more about why this principle is important when looking for applications. I also learned what a lemma is. I had never heard the term before and now know it is a minor proposition that has been proven."
      ]
    },
    {
      "cell_type": "markdown",
      "metadata": {
        "id": "mJHvoj6GokaZ"
      },
      "source": [
        "### Meaningful\n",
        "\n"
      ]
    },
    {
      "cell_type": "markdown",
      "metadata": {
        "id": "XOxh3XFTz-6N"
      },
      "source": [
        "Understanding the Pigeonhole Principle was nice, but I feel like the importance clicked when Brother Bessey stated, \"Recall this principle only guarantees that at least one of the pigeonholes will contain two or more pigeons. It neither specifies a particular hole nor identifies which pigeons are in the group of 'two or more.' In theory, there is no way to know either of these things, since the pigeonhole principle is an assertion of existence not of explicit solution\". It is nice to know that a solution exists, and this in and of itself can be a huge advantage. Knowing what this principle does and does not give us felt meaningful to me."
      ]
    },
    {
      "cell_type": "markdown",
      "metadata": {
        "id": "_RBE03fhpNUG"
      },
      "source": [
        "### Other"
      ]
    },
    {
      "cell_type": "markdown",
      "metadata": {
        "id": "d-sXEeq60C3W"
      },
      "source": [
        "This week I got to work with Bretton Steiner Claire Hocker and Hannah Parker. Bretton helped with filling out the code stubs, and Hannah helped with explaining the Pigeonhole Principle.\n",
        "\n",
        "I enjoyed reading the article given by Brother Bessey. I felt like it gave a very clear description of the Pigeonhole Principle. The examples were clear and I appreciated that he showed the math behind the examples instead of assuming we understood. The fact that probably did not come into play was a little strange at first, but after a few minutes of considering it, I saw why that is true. The birthday example that Brother Bessey gave helped me understand why probability does not come into play. Explaining it to my wife was a little challenging as she had trouble understanding that we were dealing with certainty. She liked to think that the chances of there being two were high but using the same birthday example with 366 people she saw that there was a certainty."
      ]
    },
    {
      "cell_type": "markdown",
      "metadata": {
        "id": "Nrk-8EmgW4NP"
      },
      "source": [
        "## TODO What is True?\n",
        "Click on each warranted checkbox to toggle it to True (or back to False). \n",
        "\n",
        "NOTE: *This only works in Colab. If you run it in some other Jupyter notebook client/server environment you may have to change False to True (or vice versa) manually.*\n",
        "\n",
        "This self-assessment is subject to revision by a grader."
      ]
    },
    {
      "cell_type": "code",
      "metadata": {
        "id": "qGAjzgVRXR4M"
      },
      "source": [
        "#@markdown ## What is True about what I did?\n",
        "#@markdown ### I had fun.\n",
        "cb00 = True #@param {type:'boolean'}\n",
        "#@markdown ### I learned something new.\n",
        "cb01 = True #@param {type:'boolean'}\n",
        "#@markdown ### I achieved something meaningful, or something I can build upon at a later time.\n",
        "cb02 = True #@param {type:'boolean'}\n",
        "#@markdown ## What is True about my report?\n",
        "#@markdown ### I wrote a sufficient number of well-written sentences.\n",
        "cb03 = True #@param {type:'boolean'}\n",
        "#@markdown ### My report is free of mechanical infelicities.\n",
        "cb04 = True #@param {type:'boolean'}\n",
        "#@markdown ### I used Grammarly (or something better described in my report) to check for MIs.\n",
        "cb05 = True #@param {type:'boolean'}\n",
        "#@markdown ### I reported on any connections I found between these problems and something I already know. \n",
        "cb06 = True #@param {type:'boolean'}\n",
        "#@markdown ### I reported who were and what contribution each of my collaborators made.\n",
        "cb07 = True #@param {type:'boolean'}\n",
        "#@markdown ### I reported what I thought about the essay in general.\n",
        "cb08 = True #@param {type:'boolean'}\n",
        "#@markdown ### I reported what I thought about the certainty-not-chance feature of the pigeonhole principle.\n",
        "cb09 = True #@param {type:'boolean'}\n",
        "#@markdown ### I reported what I thought about the philosophical aspect of the pigeonhole principle per page 41.\n",
        "cb10 = True #@param {type:'boolean'}\n",
        "#@markdown ### I reported on how my discussion with a non-STEM non-classmate went.\n",
        "cb11 = True #@param {type:'boolean'}\n",
        "#@markdown ### I reported on how I grappled with the problem at the bottom of page 40.\n",
        "cb12 = True #@param {type:'boolean'}\n",
        "#@markdown ### I reported on the connection I found between the pigeonhole principle and graphs.\n",
        "cb13 = True #@param {type:'boolean'}\n",
        "#@markdown ## What is True about my code?\n",
        "#@markdown ### I implemented the first function (the one with the absurdly long name) in one or two lines of code.\n",
        "cb14 = True #@param {type:'boolean'}\n",
        "#@markdown ### I used either the sum rule and product rule together or else just the product rule in the first function.\n",
        "cb15 = True #@param {type:'boolean'}\n",
        "#@markdown ### The first function calculates and returns the correct value (see Exercise 250).\n",
        "cb16 = True #@param {type:'boolean'}\n",
        "#@markdown ### The second function inputs a dictionary like {'Name': 'John Doe', 'LDS': True, 'Likes Cats': True, 'Born Before': True, 'Wears Contacts': False, 'Bites Fingernails': False, 'Lives Close': True} and returns the string 'J D:111001'.\n",
        "cb17 = True #@param {type:'boolean'}\n",
        "#@markdown ### The second function calls the first function with the appropriate argument and uses the result.\n",
        "cb18 = True #@param {type:'boolean'}\n",
        "#@markdown ### The second function includes an assert that the length of the string being returned is 10.\n",
        "cb19 = True #@param {type:'boolean'}\n",
        "#@markdown ### The second function includes an assert that the cardinality of its codomain (set of possible return values) is over a million.\n",
        "cb20 = True #@param {type:'boolean'}"
      ],
      "execution_count": null,
      "outputs": []
    },
    {
      "cell_type": "markdown",
      "metadata": {
        "id": "q8KESLBANSkC"
      },
      "source": [
        "## DO NOT CHANGE ANYTHING IN THE NEXT CODE CELL!!\n",
        "### Delete this cell and the following ones before submitting your work."
      ]
    },
    {
      "cell_type": "code",
      "metadata": {
        "id": "rJ_vaL0DWwoc",
        "colab": {
          "base_uri": "https://localhost:8080/"
        },
        "outputId": "de4a9ea6-03a9-4d79-94dd-27e2603abe59"
      },
      "source": [
        "points_for_what_I_did = [3]*3\n",
        "points_for_my_report = [5]*8 + [7] + [6]*2\n",
        "points_for_my_code = [4]*3 + [5]*4\n",
        "points = points_for_what_I_did + points_for_my_report + points_for_my_code\n",
        "# cb is short for checkbox\n",
        "total = sum(map(lambda n, p: p if eval(f'cb{n:02}') else 0,\n",
        "                range(len(points)), points))             \n",
        "total"
      ],
      "execution_count": null,
      "outputs": [
        {
          "output_type": "execute_result",
          "data": {
            "text/plain": [
              "0"
            ]
          },
          "metadata": {
            "tags": []
          },
          "execution_count": 14
        }
      ]
    },
    {
      "cell_type": "markdown",
      "metadata": {
        "id": "muxeYgQQKGEU"
      },
      "source": [
        "# For graders"
      ]
    }
  ]
}