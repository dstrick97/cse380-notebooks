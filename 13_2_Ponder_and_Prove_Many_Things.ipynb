{
  "nbformat": 4,
  "nbformat_minor": 0,
  "metadata": {
    "colab": {
      "name": "13_2_Ponder_and_Prove_Many_Things.ipynb",
      "provenance": [],
      "include_colab_link": true
    },
    "kernelspec": {
      "name": "python3",
      "display_name": "Python 3"
    },
    "language_info": {
      "name": "python"
    }
  },
  "cells": [
    {
      "cell_type": "markdown",
      "metadata": {
        "id": "view-in-github",
        "colab_type": "text"
      },
      "source": [
        "<a href=\"https://colab.research.google.com/github/dstrick97/cse380-notebooks/blob/master/13_2_Ponder_and_Prove_Many_Things.ipynb\" target=\"_parent\"><img src=\"https://colab.research.google.com/assets/colab-badge.svg\" alt=\"Open In Colab\"/></a>"
      ]
    },
    {
      "cell_type": "markdown",
      "metadata": {
        "id": "0GZOWnts9NAD"
      },
      "source": [
        "# Ponder and Prove Many Things\n",
        "## Due: Thursday, 1 April 2021, 11:59 pm"
      ]
    },
    {
      "cell_type": "markdown",
      "metadata": {
        "id": "S5XdXGMv9dy4"
      },
      "source": [
        "### Is It Decidable?"
      ]
    },
    {
      "cell_type": "markdown",
      "metadata": {
        "id": "Gzy9wIboAVvi"
      },
      "source": [
        "#### TODO Study and run the code below."
      ]
    },
    {
      "cell_type": "markdown",
      "metadata": {
        "id": "218Qmbtx9lP6"
      },
      "source": [
        "And answer these questions:\n",
        "1. What is this program computing?\n",
        "2. How does it do it? \n",
        "3. Will it ever terminate?"
      ]
    },
    {
      "cell_type": "code",
      "metadata": {
        "id": "LfltDFaw9trA"
      },
      "source": [
        "from math import log2\n",
        "\n",
        "def you_decide():\n",
        "  flibbers = [17,78,19,23,29,77,95,77,1,11,13,15,15,55]\n",
        "  flobbers = [91,85,51,38,33,29,23,19,17,13,11,14,2,1]\n",
        "  i = 2\n",
        "  time_keeps_ticking = True\n",
        "  while time_keeps_ticking:\n",
        "    time_keeps_ticking = False\n",
        "    for n in range(len(flibbers)):\n",
        "      f = i * flibbers[n]\n",
        "      if not f % flobbers[n]:\n",
        "        i = f // flobbers[n]\n",
        "        p = log2(i)\n",
        "        if p.is_integer():\n",
        "          print(i)\n",
        "        time_keeps_ticking = True\n",
        "        break"
      ],
      "execution_count": 6,
      "outputs": []
    },
    {
      "cell_type": "code",
      "metadata": {
        "id": "fGZ9lZCP9xWC"
      },
      "source": [
        "you_decide()"
      ],
      "execution_count": null,
      "outputs": []
    },
    {
      "cell_type": "markdown",
      "metadata": {
        "id": "lrqGgqHCnrR9"
      },
      "source": [
        "1. It is outputting a list of primes in the form $2^{prime}$.\n",
        "2. This list of primes is being produced through Conway's Prime Game (https://www.jstor.org/stable/2690263?seq=1) or Conway's Prime Producing Machine (https://www.futilitycloset.com/2010/06/27/conways-prime-producing-machine/) The flibbers and flobbers are acting as numerator and denominator to use within the equation. When an integer is found it is examined and printed.\n",
        "3. It will never terminate because the code is checking for a modulus of 1 to determine if it will continue each round of the while loop. This creates an infinite loop. While the primes are accurate according to Dominic Olivastro, the number of steps taken to find the next prime increases rapidly and this method will no longer be efficient for large primes"
      ]
    },
    {
      "cell_type": "markdown",
      "metadata": {
        "id": "oqZ3784B-EyX"
      },
      "source": [
        "### Fun With Decidability"
      ]
    },
    {
      "cell_type": "markdown",
      "metadata": {
        "id": "aeiVo2WpkySc"
      },
      "source": [
        "#### TODO Read and Share"
      ]
    },
    {
      "cell_type": "markdown",
      "metadata": {
        "id": "i13mpSpd-O39"
      },
      "source": [
        "Read [Can't Decide? Undecide! by Chaim Goodman-Strauss](https://strauss.hosted.uark.edu/papers/decide.pdf)\n",
        "\n",
        "Share six things that you found interesting in this paper.\n",
        "\n",
        "Share six things that you already knew or had heard about before. (These can overlap with the first six.)\n",
        "\n",
        "Write one to two sentences for each of the things you share.\n"
      ]
    },
    {
      "cell_type": "markdown",
      "metadata": {
        "id": "e6QrvJVru-KQ"
      },
      "source": [
        "###Interesting\n",
        "1. When looking at the tiling examples I thought it was interesting that in \"some\" circumstances a brute-force answer is available. I suppose if a brute force answer was available for \"all\" circumstances we would just call it an algorithm.\n",
        "2. I also thought it was interesting how \"small changes to the input can cause our process to play out in radically different ways\". It is always fun to see what a small and seemingly insignificant change can result.\n",
        "3. Tag production systems were also interesting. If a universe is defined, then a problem is simulated to be decidable.\n",
        "4. The Post Correspondence Problem was very interesting to look at. It was hard to believe that the shortest possible sequence still requires 75 pairs.\n",
        "5. The definition of NP-hard was not well defined in the article. I was interested in what it means so I looked it up. There is much more to it than its acronym.\n",
        "6. Conway's Game of Life model is familiar and it was nice to see something I finally recognized in the paper. It was interesting to see how it relates to undecidable."
      ]
    },
    {
      "cell_type": "markdown",
      "metadata": {
        "id": "BE-jMcsYv1Bw"
      },
      "source": [
        "###Already Knew or Heard About\n",
        "1. I am glad that combinatorics has already been covered in this class, otherwise I would have been even more lost when talking about the tiling section.\n",
        "2. I have heard the term NP-Hard before but never knew what they were.\n",
        "3. I recognized Word Ladders from a previous in-class assignment.\n",
        "4. Conway's Game of Life was a fun project I implemented in Java a few semesters ago.\n",
        "5. I learned about lemma's recently when studying the pigeonhole principle.\n",
        "6. I learned about Turing Machines this week when watching the videos to prepare for the quiz."
      ]
    },
    {
      "cell_type": "markdown",
      "metadata": {
        "id": "gjeWZ0Mo-r6E"
      },
      "source": [
        "### The Map of Mathematics"
      ]
    },
    {
      "cell_type": "markdown",
      "metadata": {
        "id": "xFFVrRTl-wY9"
      },
      "source": [
        "[The entire field of mathematics summarized in a single map!](https://www.youtube.com/watch?v=OmJ-4B-mS-Y) --- direct link, or embedded below.\n",
        "\n",
        "This video shows how pure mathematics and applied mathematics relate to each other and all of the sub-topics they are made from."
      ]
    },
    {
      "cell_type": "code",
      "metadata": {
        "id": "Wd_Ny-gS-zpk"
      },
      "source": [
        "from IPython.display import YouTubeVideo\n",
        "YouTubeVideo('OmJ-4B-mS-Y') # 11 minutes 5 seconds"
      ],
      "execution_count": null,
      "outputs": []
    },
    {
      "cell_type": "markdown",
      "metadata": {
        "id": "8PD-pimc-1dk"
      },
      "source": [
        "#### TODO Watch and Share"
      ]
    },
    {
      "cell_type": "markdown",
      "metadata": {
        "id": "9WIEkJ0p-9JD"
      },
      "source": [
        "Share six things that you found interesting in this video.\n",
        "\n",
        "Share six things that you already knew or had heard about before. (These can overlap with the first six.)\n",
        "\n",
        "Write one to two sentences for each of the things you share.\n"
      ]
    },
    {
      "cell_type": "markdown",
      "metadata": {
        "id": "pbIXKawVqYbM"
      },
      "source": [
        "###Interesting\n",
        "1. The origin of math was very interesting. It's cool to see how fundamentals such as zero and negative numbers originated in different countries but are now elementary and widespread.\n",
        "2. The divide between pure mathematics and applied mathematics was a cool distinction. It's similar to the differences I've seen between Computer Science and Software Engineering.\n",
        "3. The fact that mathematics does not have a consistent set of axioms is very interesting. I'm excited to see what we can learn and what gaps in our knowledge are filled when we gain a perfect knowledge.\n",
        "4. It's interesting that theories have been created in pure mathematics and are only applied much later when a problem arises and a theory is \"rediscovered\".\n",
        "5. It's interesting to see how many branches within pure mathematics I have learned about through working for a degree in computer science. I was happy with how many of the fields I recognized (granted there were quite a few I didn't).\n",
        "6. It was cool to see how interrelated the branches of mathematics are. The question of \"When will I ever use this!?\" can probably be answered by looking at this web."
      ]
    },
    {
      "cell_type": "markdown",
      "metadata": {
        "id": "kgWxu7meqbYX"
      },
      "source": [
        "###Already Knew or Heard About\n",
        "1. I just learned a little about Complexity Theory from the article Can't Decide? Undecide! by Chaim Goodman-Straus\n",
        "2. I'm happy to say I know about combinatorics, trees, and graphs.\n",
        "3. I also know about linear algebra.\n",
        "4. I think I've heard of computer science before.\n",
        "5. Cryptography is something I began to learn about during my internship (just the absolute basics)\n",
        "6. Machine learning is something I've seen and want to learn more about in the future"
      ]
    },
    {
      "cell_type": "markdown",
      "metadata": {
        "id": "nfxMo9bl_TZA"
      },
      "source": [
        "### The Map of Computer Science"
      ]
    },
    {
      "cell_type": "markdown",
      "metadata": {
        "id": "bM9Dst0d_tIW"
      },
      "source": [
        "[The field of computer science similarly summarized.](https://www.youtube.com/watch?v=SzJ46YA_RaA) --- direct link, or embedded below."
      ]
    },
    {
      "cell_type": "code",
      "metadata": {
        "id": "LnBJvrbi_xIp"
      },
      "source": [
        "from IPython.display import YouTubeVideo\n",
        "YouTubeVideo('SzJ46YA_RaA') # 10 minutes 57 seconds"
      ],
      "execution_count": null,
      "outputs": []
    },
    {
      "cell_type": "markdown",
      "metadata": {
        "id": "5194ShLd_zjU"
      },
      "source": [
        "#### TODO Watch and Share"
      ]
    },
    {
      "cell_type": "markdown",
      "metadata": {
        "id": "zTI_XHCU_1HW"
      },
      "source": [
        "Share six things that you found interesting in this video.\n",
        "\n",
        "Share six things that you already knew or had heard about before. (These can overlap with the first six.)\n",
        "\n",
        "Write one to two sentences for each of the things you share."
      ]
    },
    {
      "cell_type": "markdown",
      "metadata": {
        "id": "aeILgJYHxgzP"
      },
      "source": [
        "###Interesting\n",
        "1. I think it's cool to see how computers have evolved from a tool to literally compute, into a wide range of tools and toys.\n",
        "2. It still blows my mind that internally a computer is a series of high and low signals, or zeros and ones.\n",
        "3. It's interesting that Turing Machines are considered the foundation of computer science.\n",
        "4. Computational Complexity is intersting. As fast as computers are it's amazing that some computations would still take lifetimes to complete.\n",
        "5. The sheduler dividing tasks between CPU cores while multiprocessing is very intersting. In my Operating Systems class we learned about it and it blows my mind how complex it can be.\n",
        "6. It's cool how every high level language is just a tool to create machine code for the programmer. It's a very basic concept but one I hadn't thought of before."
      ]
    },
    {
      "cell_type": "markdown",
      "metadata": {
        "id": "_LvZbsqqxlL9"
      },
      "source": [
        "###Already Knew or Heard About\n",
        "1. I learned about Turing Machines this week when watching the videos to prepare for the quiz.\n",
        "2. I just learned a little about Computability Theory from the article Can't Decide? Undecide! by Chaim Goodman-Straus\n",
        "3. Algorithms are important and knowing the best one to use (and how to implement it) is crucial to a lot of projects.\n",
        "4. When he mentioned logic, graph theory, parallel programming, and data structures it was nice to know how those fit into computer science.\n",
        "5. The operating system acting as the user interface as well as the interface between software and hardware is something I've learned about this semester.\n",
        "6. Artificial intelligence and Machine Learning is something I've learned a little bit about through my own research and the AI society before COVID."
      ]
    },
    {
      "cell_type": "markdown",
      "metadata": {
        "id": "fPu3fWgR_3hI"
      },
      "source": [
        "### SKIP Report"
      ]
    },
    {
      "cell_type": "markdown",
      "metadata": {
        "id": "JoO9lagO_5lt"
      },
      "source": [
        "The sentences you have already (supposedly) written will suffice."
      ]
    },
    {
      "cell_type": "markdown",
      "metadata": {
        "id": "shpEERFS_87F"
      },
      "source": [
        "### SKIP Self-Assessment"
      ]
    },
    {
      "cell_type": "markdown",
      "metadata": {
        "id": "yWvKYeqc__bX"
      },
      "source": [
        "Instead, you will have ilearn peer reviews to complete."
      ]
    }
  ]
}