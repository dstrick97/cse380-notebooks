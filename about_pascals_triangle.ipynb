{
 "cells": [
  {
   "cell_type": "markdown",
   "metadata": {},
   "source": [
    "# About Pascal’s Triangle\n",
    "## Class Directed Learning\n",
    "### Due: Tuesday, 2 February 2021, 11:59 pm"
   ]
  },
  {
   "cell_type": "markdown",
   "metadata": {},
   "source": [
    "## A Helper Function\n",
    "Exercise 253 on page 161 shows a recursive definition of `nCk`. Here's a much more efficient way to compute binomial coefficients, which perhaps you can profitably use in your investigations:\n"
   ]
  },
  {
   "cell_type": "code",
   "execution_count": 3,
   "metadata": {},
   "outputs": [],
   "source": [
    "from math import gcd\n",
    "\n",
    "def nCk(n, k):\n",
    "  if k < 0 or k > n:\n",
    "    return 0\n",
    "  else:\n",
    "    result = 1\n",
    "    d = 1\n",
    "    g = 1\n",
    "    m = min(k, n - k)\n",
    "    while (d <= m):\n",
    "      g = gcd(result, d)\n",
    "      result = n * (result // g)\n",
    "      result = (result // (d // g))\n",
    "      n -= 1\n",
    "      d += 1\n",
    "    return result"
   ]
  },
  {
   "cell_type": "markdown",
   "metadata": {},
   "source": [
    "## Predominant and Fundamental\n",
    "The predominant pattern, the fundamental symmetry in Pascal's triangle is captured by the identity:\n",
    "$${n \\choose k} = {n \\choose n - k}$$\n",
    "## Identify Identities\n",
    "Here are two different identities that point out the same pattern in Pascal's triangle. What is the name of this pattern?\n",
    "### Identity 1\n",
    "For nonnegative integers $r$ and $n$:\n",
    "$$\\sum^n_{k=0} {r+k \\choose k} = {r+n+1 \\choose n}$$\n",
    "### Identity 2\n",
    "For nonnegative integers $m$ and $n$:\n",
    "$$\\sum^n_{k=0} {k \\choose m} = {n+1 \\choose m+1}$$"
   ]
  },
  {
   "cell_type": "markdown",
   "metadata": {},
   "source": [
    "# Investigate A Possible Relationship\n",
    "Does any row in Pascal's Triangle have the Fibonacci numbers' relationship between three consecutive entries? In other words, where x, y, and z are three consecutive entries in a single row, does x + y = z?\n",
    "\n",
    "  The number of rows where this relationship could possibly hold is:\n",
    "  - [ ] Zero.\n",
    "  - [x] At least one.\n",
    "  - [ ] At most one.\n",
    "  - [ ] Exactly one.\n",
    "  - [ ] It cannot be determined."
   ]
  },
  {
   "cell_type": "markdown",
   "metadata": {},
   "source": [
    "# Investigate Another Possible Relationship\n",
    "Does any row in Pascal's Triangle have three consecutive entries in the ratio 1:2:3? (12:24:36 is an example of three numbers in a 1:2:3 ratio.)?\n",
    "\n",
    "  The number of rows where this relationship could possibly hold is:\n",
    "  - [ ] Zero.\n",
    "  - [x] At least one.\n",
    "  - [ ] At most one.\n",
    "  - [ ] Exactly one.\n",
    "  - [ ] It cannot be determined."
   ]
  },
  {
   "source": [
    "Special Thanks to Noah Cook for his help in creating Pascal's Triangle"
   ],
   "cell_type": "markdown",
   "metadata": {}
  },
  {
   "cell_type": "code",
   "execution_count": 10,
   "metadata": {},
   "outputs": [
    {
     "output_type": "stream",
     "name": "stdout",
     "text": [
      "                                                                        [[1]]                                                                         \n                                                                      [[1], [1]]                                                                      \n                                                                   [[1], [2], [1]]                                                                    \n                                                                 [[1], [3], [3], [1]]                                                                 \n                                                              [[1], [4], [6], [4], [1]]                                                               \n                                                           [[1], [5], [10], [10], [5], [1]]                                                           \n                                                        [[1], [6], [15], [20], [15], [6], [1]]                                                        \n                                                     [[1], [7], [21], [35], [35], [21], [7], [1]]                                                     \n                                                  [[1], [8], [28], [56], [70], [56], [28], [8], [1]]                                                  \n                                              [[1], [9], [36], [84], [126], [126], [84], [36], [9], [1]]                                              \n                                        [[1], [10], [45], [120], [210], [252], [210], [120], [45], [10], [1]]                                         \n                                     [[1], [11], [55], [165], [330], [462], [462], [330], [165], [55], [11], [1]]                                     \n                                 [[1], [12], [66], [220], [495], [792], [924], [792], [495], [220], [66], [12], [1]]                                  \n                            [[1], [13], [78], [286], [715], [1287], [1716], [1716], [1287], [715], [286], [78], [13], [1]]                            \n                       [[1], [14], [91], [364], [1001], [2002], [3003], [3432], [3003], [2002], [1001], [364], [91], [14], [1]]                       \n                  [[1], [15], [105], [455], [1365], [3003], [5005], [6435], [6435], [5005], [3003], [1365], [455], [105], [15], [1]]                  \n            [[1], [16], [120], [560], [1820], [4368], [8008], [11440], [12870], [11440], [8008], [4368], [1820], [560], [120], [16], [1]]             \n       [[1], [17], [136], [680], [2380], [6188], [12376], [19448], [24310], [24310], [19448], [12376], [6188], [2380], [680], [136], [17], [1]]       \n  [[1], [18], [153], [816], [3060], [8568], [18564], [31824], [43758], [48620], [43758], [31824], [18564], [8568], [3060], [816], [153], [18], [1]]   \n[[1], [19], [171], [969], [3876], [11628], [27132], [50388], [75582], [92378], [92378], [75582], [50388], [27132], [11628], [3876], [969], [171], [19], [1]]\n"
     ]
    }
   ],
   "source": [
    "pt = []\n",
    "for i in range(20):\n",
    "    tempList = []\n",
    "    for j in range(i+1):\n",
    "        tempList.append([nCk(i,j)])\n",
    "    pt.append(tempList)\n",
    "for i in range(20):\n",
    "    print(str(pt[i]).center(150))"
   ]
  },
  {
   "cell_type": "code",
   "execution_count": null,
   "metadata": {},
   "outputs": [],
   "source": []
  }
 ],
 "metadata": {
  "kernelspec": {
   "name": "python3",
   "display_name": "Python 3.8.3 64-bit",
   "metadata": {
    "interpreter": {
     "hash": "6c24dc9a87ddf819fb714fc5a5db221f63b24c10fc5effd1a7c04c279a9593c9"
    }
   }
  },
  "language_info": {
   "codemirror_mode": {
    "name": "ipython",
    "version": 3
   },
   "file_extension": ".py",
   "mimetype": "text/x-python",
   "name": "python",
   "nbconvert_exporter": "python",
   "pygments_lexer": "ipython3",
   "version": "3.8.3-final"
  }
 },
 "nbformat": 4,
 "nbformat_minor": 4
}