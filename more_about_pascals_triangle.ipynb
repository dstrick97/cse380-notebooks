{
  "nbformat": 4,
  "nbformat_minor": 0,
  "metadata": {
    "kernelspec": {
      "display_name": "Python 3",
      "language": "python",
      "name": "python3"
    },
    "language_info": {
      "codemirror_mode": {
        "name": "ipython",
        "version": 3
      },
      "file_extension": ".py",
      "mimetype": "text/x-python",
      "name": "python",
      "nbconvert_exporter": "python",
      "pygments_lexer": "ipython3",
      "version": "3.9.0"
    },
    "colab": {
      "name": "more_about_pascals_triangle.ipynb",
      "provenance": [],
      "include_colab_link": true
    }
  },
  "cells": [
    {
      "cell_type": "markdown",
      "metadata": {
        "id": "view-in-github",
        "colab_type": "text"
      },
      "source": [
        "<a href=\"https://colab.research.google.com/github/dstrick97/cse380-notebooks/blob/master/more_about_pascals_triangle.ipynb\" target=\"_parent\"><img src=\"https://colab.research.google.com/assets/colab-badge.svg\" alt=\"Open In Colab\"/></a>"
      ]
    },
    {
      "cell_type": "markdown",
      "metadata": {
        "id": "5j0E_QeDHDjU"
      },
      "source": [
        "Hello back!"
      ]
    },
    {
      "cell_type": "markdown",
      "metadata": {
        "id": "FxiFHm6IHCjC"
      },
      "source": [
        "# More About Pascal’s Triangle\n",
        "## Expounding\n",
        "Hello World!!"
      ]
    },
    {
      "cell_type": "markdown",
      "metadata": {
        "id": "UL1P5nMcHCjI"
      },
      "source": [
        "## More Helper Functions"
      ]
    },
    {
      "cell_type": "code",
      "metadata": {
        "id": "hi0eQGoRHCjK"
      },
      "source": [
        "from math import gcd\n",
        "\n",
        "def nCk(n, k):\n",
        "  if k < 0 or k > n:\n",
        "    return 0\n",
        "  else:\n",
        "    result = 1\n",
        "    d = 1\n",
        "    g = 1\n",
        "    m = min(k, n - k)\n",
        "    while (d <= m):\n",
        "      g = gcd(result, d)\n",
        "      result = n * (result // g)\n",
        "      result = (result // (d // g))\n",
        "      n -= 1\n",
        "      d += 1\n",
        "    return result\n",
        "\n",
        "def center(string, n):\n",
        "  pad = ' ' * ((n - len(string)) // 2)\n",
        "  return pad + string + pad\n",
        "\n",
        "def draw_pascals_triangle(num_rows, k_fn = str, n_fn = print):\n",
        "  print('First', num_rows, \"rows of Pascal's triangle:\")\n",
        "  for n in range(num_rows + 1):\n",
        "    row = []\n",
        "    for k in range(n + 1):\n",
        "      row.append(k_fn(nCk(n, k)))\n",
        "    n_fn(' '.join(row))\n"
      ],
      "execution_count": null,
      "outputs": []
    },
    {
      "cell_type": "markdown",
      "metadata": {
        "id": "Nzk7g4OxHCjM"
      },
      "source": [
        "Try several variations of calls to ```draw_pascals_triangle```:"
      ]
    },
    {
      "cell_type": "code",
      "metadata": {
        "id": "B9TJBcHtHCjM"
      },
      "source": [
        "draw_pascals_triangle(10)"
      ],
      "execution_count": null,
      "outputs": []
    },
    {
      "cell_type": "code",
      "metadata": {
        "id": "q-jtE1J0HCjM"
      },
      "source": [
        "draw_pascals_triangle(10, str, lambda x: print(center(x, 75)))"
      ],
      "execution_count": null,
      "outputs": []
    },
    {
      "cell_type": "code",
      "metadata": {
        "id": "QyIlQ58BHCjM"
      },
      "source": [
        "draw_pascals_triangle(40)"
      ],
      "execution_count": null,
      "outputs": []
    },
    {
      "cell_type": "code",
      "metadata": {
        "id": "z1YRlXW7HCjN"
      },
      "source": [
        "draw_pascals_triangle(19, str, lambda x: print(center(x, 101)))"
      ],
      "execution_count": null,
      "outputs": []
    },
    {
      "cell_type": "code",
      "metadata": {
        "id": "CP_7ONboHCjN"
      },
      "source": [
        "draw_pascals_triangle(32, lambda k:str(k % 2), lambda x: print(center(x, 75)))"
      ],
      "execution_count": null,
      "outputs": []
    },
    {
      "cell_type": "code",
      "metadata": {
        "id": "eqdWeU4RHCjO"
      },
      "source": [
        "draw_pascals_triangle(31, lambda k:'1' if k % 2 else ' ', lambda x: print(center(x, 75)))"
      ],
      "execution_count": null,
      "outputs": []
    },
    {
      "cell_type": "markdown",
      "metadata": {
        "id": "_Y5o_10kHCjP"
      },
      "source": [
        "## Predominant and Fundamental\n",
        "The predominant pattern, the fundamental symmetry in Pascal's triangle is captured by the identity:\n",
        "$${n \\choose k} = {n \\choose n - k}$$\n",
        "\n",
        "### Algebraic Proof\n",
        "   $${n \\choose k} = \\frac{n!}{k!(n - k)!} = \\frac{n!}{(n - k)!k!} = {n \\choose n - k}$$\n",
        "\n",
        "### Combinatorial Proof\n",
        "   Choosing $k$ things out of $n$ is the same as choosing the $n - k$ things out of $n$\n",
        "   *not to choose* --- as in choosing which $n - k$ things to leave behind.\n",
        "\n",
        "## Identify Identities\n",
        "These two identities point out the same \"Hockey Stick\" pattern in Pascal's triangle.\n",
        "\n",
        "### Identity 1\n",
        "For nonnegative integers $r$ and $n$:\n",
        "$$\\sum^n_{k=0} {r+k \\choose k} = {r+n+1 \\choose n}$$\n",
        "### Identity 2\n",
        "For nonnegative integers $m$ and $n$:\n",
        "$$\\sum^n_{k=0} {k \\choose m} = {n+1 \\choose m+1}$$\n",
        "\n",
        "When $m = 1$ we have a special case:\n",
        "$${0 \\choose 1} + {1 \\choose 1} + \\dots + {n \\choose 1} = {n + 1 \\choose 2} = \\frac{(n + 1)n}{2}.$$\n",
        "\n",
        "What is this sequence of partial sums called?\n",
        "\n",
        "#### What is the sum of the first few squares?\n",
        "\n",
        "First, observe that:\n",
        "$$k^2 = 2{k \\choose 2} + {k \\choose 1}$$\n",
        "\n",
        "Expand with the \"n choose k\" formula:\n",
        "$$k^2 = 2(k)(k - 1)/2 + k = k(k - 1) + k = k^2 + k - k = k^2$$\n",
        "\n",
        "Now sum both sides from 0 to $n$, and simplify:\n",
        "$$\\sum_{k = 0}^n k^2 = \\sum_{k = 0}^n \\left(2{k \\choose 2} + {k \\choose 1}\\right)$$\n",
        "\n",
        "$$\\sum_{k = 0}^n k^2 = \\sum_{k = 0}^n 2{k \\choose 2} + \\sum_{k = 0}^n {k \\choose 1}$$\n",
        "\n",
        "$$\\sum_{k = 0}^n k^2 = 2 \\cdot \\sum_{k = 0}^n {k \\choose 2} + \\sum_{k = 0}^n {k \\choose 1}$$\n",
        "\n",
        "$$\\sum_{k = 0}^n k^2 = 2 \\cdot {n + 1 \\choose 3} + {n + 1 \\choose 2}$$\n",
        "\n",
        "$$\\sum_{k = 0}^n k^2 = 2\\frac{(n + 1)n(n - 1)}{6} + \\frac{(n + 1)n}{2}$$\n",
        "\n",
        "$$\\sum_{k = 0}^n k^2 = \\frac{2(n + 1)n(n - 1) + 3(n + 1)n}{6}$$\n",
        "\n",
        "$$\\sum_{k = 0}^n k^2 = \\frac{(n + 1)n(2(n - 1) + 3)}{6}$$\n",
        "\n",
        "$$\\sum_{k = 0}^n k^2 = \\frac{n(n + 1)(2n + 1)}{6}$$\n",
        "\n",
        "\n",
        "\n",
        "\n"
      ]
    },
    {
      "cell_type": "markdown",
      "metadata": {
        "id": "vsjELiQnHCjP"
      },
      "source": [
        "## Validate the Hexagon Identity\n",
        "Suppose that $k$ and $n$ are integers with $1 \\le k \\le n$. Argue using the \"n choose k\" formula and algebra for the validity of this identity relating terms in Pascal's triangle that form a hexagon:"
      ]
    },
    {
      "cell_type": "markdown",
      "metadata": {
        "id": "PM5_XoMuHCjR"
      },
      "source": [
        "$${n - 1 \\choose k - 1}{n \\choose k + 1}{n + 1 \\choose k} = {n - 1 \\choose k}{n \\choose k - 1}{n + 1 \\choose k + 1}$$"
      ]
    },
    {
      "cell_type": "code",
      "metadata": {
        "id": "sc_Rbsl8HCjS"
      },
      "source": [
        "n = 8\n",
        "k = 2\n",
        "print((n - 1) * 36 * 56, '=', 21 * n * 84)"
      ],
      "execution_count": null,
      "outputs": []
    },
    {
      "cell_type": "markdown",
      "metadata": {
        "id": "42o4nc-zHCjS"
      },
      "source": [
        "$$\\frac{(n-1)!}{(k-1)!(n-1-(k-1))!} \\times \\frac{(n)!}{(k+1)!(n-(k+1))!} \\times \\frac{(n+1)!}{(k!)(n+1-k)!} =$$\n",
        "\n"
      ]
    },
    {
      "cell_type": "markdown",
      "metadata": {
        "id": "siamySQdHCjS"
      },
      "source": [
        "$$\\frac{(n-1)!}{(k)!(n-1-k)!} \\times \\frac{(n)!}{(k-1)!(n-(k-1))!} \\times \\frac{(n+1)!}{(k+1)!(n+1-(k+1))!}$$"
      ]
    },
    {
      "cell_type": "markdown",
      "metadata": {
        "id": "Abv1MFPrHCjS"
      },
      "source": [
        "# Investigate A Possible Relationship\n",
        "Does any row in Pascal's Triangle have the Fibonacci numbers' relationship between three consecutive entries? In other words, where x, y, and z are three consecutive entries in a single row, does x + y = z?\n",
        "\n",
        "  The number of rows where this relationship could possibly hold is:\n",
        "  - [ ] Zero.\n",
        "  - [X] At least one.\n",
        "  - [ ] At most one.\n",
        "  - [ ] Exactly one.\n",
        "  - [ ] It cannot be determined."
      ]
    },
    {
      "cell_type": "markdown",
      "metadata": {
        "id": "AB5oTKCqHCjS"
      },
      "source": [
        "  If you express the Fibonacci relationship\n",
        "  $${n \\choose k} + {n \\choose k + 1} = {n \\choose k + 2}$$\n",
        "  in terms of factorials, and then simplify the equation, you'll get\n",
        "\n",
        "  $$k^2 - 3nk + (n^2 - 3n - 2) = 0$$\n",
        "\n",
        "  which you can solve for $k$ for any given $n$ using the quadratic formula. As the\n",
        "  code below shows, there are six solutions in the first 1000000 rows:\n"
      ]
    },
    {
      "cell_type": "code",
      "metadata": {
        "id": "s_S1Dzj4HCjS"
      },
      "source": [
        "from math import isqrt\n",
        "\n",
        "def find_square_root_if_is_perfect_square(x):\n",
        "    sr = isqrt(x)\n",
        "    perfect = (x == sr * sr)\n",
        "    return perfect and sr\n",
        "\n",
        "def find_k(b, s):\n",
        "    return (b + s) // 2 if (b - s) % 2 else (b - s) // 2\n",
        "\n",
        "def find_fib_starting_at_row_n_col_k(max_n):\n",
        "    for n in range(2, max_n + 1):\n",
        "        b = 3 * n\n",
        "        d = (b * b) - (4 * (n * n - b - 2))\n",
        "        s = find_square_root_if_is_perfect_square(d)\n",
        "        if s:\n",
        "            print(f\"{n:6} {find_k(b, s):5}\")\n",
        "\n",
        "find_fib_starting_at_row_n_col_k(1000000)"
      ],
      "execution_count": null,
      "outputs": []
    },
    {
      "cell_type": "markdown",
      "metadata": {
        "id": "tlsuhmOyHCjS"
      },
      "source": [
        "# Investigate Another Possible Relationship\n",
        "Does any row in Pascal's Triangle have three consecutive entries in the ratio 1:2:3? (12:24:36 is an example of three numbers in a 1:2:3 ratio.)?\n",
        "\n",
        "  The number of rows where this relationship could possibly hold is:\n",
        "  - [ ] Zero.\n",
        "  - [ ] At least one.\n",
        "  - [ ] At most one.\n",
        "  - [X] Exactly one.\n",
        "  - [ ] It cannot be determined."
      ]
    },
    {
      "cell_type": "markdown",
      "metadata": {
        "id": "A-H5BpVYHCjT"
      },
      "source": [
        "Unlike the last problem,\n",
        "$${n \\choose k + 1} = 2 \\times {n \\choose k}$$\n",
        "and\n",
        "$${n \\choose k + 2} = 3 \\times {n \\choose k}$$\n",
        "\n",
        "when expressed in factorials and simplified give you two equations:\n",
        "\n",
        "$$n = 3k + 2$$\n",
        "and\n",
        "$$k^2 - 3k - 4 = 0$$\n",
        "or\n",
        "$$(k - 4)(k + 1) = 0.$$\n",
        "\n",
        "Taking the positive root gives the *one and only* solution: $k = 4, n = 14$."
      ]
    }
  ]
}