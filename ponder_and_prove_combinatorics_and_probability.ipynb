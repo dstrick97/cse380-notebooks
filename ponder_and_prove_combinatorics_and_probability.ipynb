{
  "nbformat": 4,
  "nbformat_minor": 0,
  "metadata": {
    "kernelspec": {
      "display_name": "Python 3",
      "language": "python",
      "name": "python3"
    },
    "language_info": {
      "codemirror_mode": {
        "name": "ipython",
        "version": 3
      },
      "file_extension": ".py",
      "mimetype": "text/x-python",
      "name": "python",
      "nbconvert_exporter": "python",
      "pygments_lexer": "ipython3",
      "version": "3.9.0"
    },
    "colab": {
      "name": "ponder_and_prove_combinatorics_and_probability.ipynb",
      "provenance": [],
      "include_colab_link": true
    }
  },
  "cells": [
    {
      "cell_type": "markdown",
      "metadata": {
        "id": "view-in-github",
        "colab_type": "text"
      },
      "source": [
        "<a href=\"https://colab.research.google.com/github/dstrick97/cse380-notebooks/blob/master/ponder_and_prove_combinatorics_and_probability.ipynb\" target=\"_parent\"><img src=\"https://colab.research.google.com/assets/colab-badge.svg\" alt=\"Open In Colab\"/></a>"
      ]
    },
    {
      "cell_type": "markdown",
      "metadata": {
        "id": "XbpR_CYqHJe8"
      },
      "source": [
        "# Ponder and Prove Combinatorics and Probability\n",
        "#### Due: Saturday, 6 February 2021, 11:59 pm."
      ]
    },
    {
      "cell_type": "markdown",
      "metadata": {
        "id": "HjeImrHsHJfF"
      },
      "source": [
        "## Conjecture\n",
        "\n",
        "A number-theoretic conjecture of combinatorial significance is the following:\n",
        "\n",
        "$degree2({2n \\choose n}) =$ the \"bits-on count\" (or population count, or Hamming weight) of $n$.\n",
        "\n",
        "$degree2(m)$ is defined as the number (degree, exponent) of 2's in the prime factorization of $m$.\n",
        "\n",
        "In other words, for any $m$, a positive integer, $m = 2^e \\cdot o$ where $o$ is an odd positive integer (could be 1) and $e$ is a natural number, including zero --- which would be the case when $m$ is odd. It's the $e$ that is the $degree2$ of $m$.\n",
        "\n",
        "Another way to state this conjecture is that the number of 1's in the binary expansion of ${2n \\choose n}$ for positive integer $n$ is equal to the number of 2's in the prime factorization of $n$.\n",
        "\n",
        "Your task is to write Python code to test this conjecture for as many positive integers as you can. See the self-assessment for more details.\n",
        "\n",
        "Note: a `bitsoncount` function can be a one-liner in Python: `return bin(x).count('1')`\n",
        "\n"
      ]
    },
    {
      "cell_type": "code",
      "metadata": {
        "id": "TSjY3Vj6JtyU"
      },
      "source": [
        "def getCount(n): \r\n",
        "  #adapted from Geeks for Geeks :https://www.geeksforgeeks.org/count-occurrences-of-a-prime-number-in-the-prime-factorization-of-every-element-from-the-given-range/\r\n",
        "    # To store the requried count \r\n",
        "    cnt = 0 \r\n",
        "    p = 2\r\n",
        "    val = p \r\n",
        "    while (True): \r\n",
        "  \r\n",
        "        # Number of values \r\n",
        "        # that are divisible by val \r\n",
        "        a = n // val \r\n",
        "  \r\n",
        "        # Number of values  \r\n",
        "        # that are divisible by val \r\n",
        "        b = (n - 1) // val \r\n",
        "  \r\n",
        "        # Increment the power of the val \r\n",
        "        val *= p\r\n",
        "  \r\n",
        "        # (a - b) is the count of numbers\r\n",
        "        # that are divisible by val \r\n",
        "        if (a - b): \r\n",
        "            cnt += (a - b) \r\n",
        "  \r\n",
        "        # No values that are divisible by val \r\n",
        "        # thus exiting from the loop \r\n",
        "        else: \r\n",
        "            break \r\n",
        "  \r\n",
        "    return int(cnt) "
      ],
      "execution_count": 3,
      "outputs": []
    },
    {
      "cell_type": "code",
      "metadata": {
        "id": "4y63EwyoJW7v"
      },
      "source": [
        "from math import gcd\r\n",
        "\r\n",
        "def nCk(n, k):\r\n",
        "  if k < 0 or k > n:\r\n",
        "    return 0\r\n",
        "  else:\r\n",
        "    result = 1\r\n",
        "    d = 1\r\n",
        "    g = 1\r\n",
        "    m = min(k, n - k)\r\n",
        "    while (d <= m):\r\n",
        "      g = gcd(result, d)\r\n",
        "      result = n * (result // g)\r\n",
        "      result = (result // (d // g))\r\n",
        "      n -= 1\r\n",
        "      d += 1\r\n",
        "    return result\r\n"
      ],
      "execution_count": 2,
      "outputs": []
    },
    {
      "cell_type": "code",
      "metadata": {
        "id": "I8H_hI53Ljbo"
      },
      "source": [
        "def countBits(n):\r\n",
        "    return bin(n).count('1')\r\n"
      ],
      "execution_count": 6,
      "outputs": []
    },
    {
      "cell_type": "code",
      "metadata": {
        "id": "NF-pWPo1LTCu"
      },
      "source": [
        "def test_conjecture(n):\r\n",
        "    return countBits(n) == getCount(nCk(2*n, n))\r\n"
      ],
      "execution_count": 7,
      "outputs": []
    },
    {
      "cell_type": "code",
      "metadata": {
        "id": "FMq9vsr-L_xd",
        "outputId": "b71a3690-c285-4d07-8400-fc3f2023cb3f",
        "colab": {
          "base_uri": "https://localhost:8080/"
        }
      },
      "source": [
        "import datetime\r\n",
        "\r\n",
        "n = 1\r\n",
        "try:\r\n",
        "  while test_conjecture(n):\r\n",
        "    n += 1\r\n",
        "except:\r\n",
        "  print('Verified up to ' + str(n) + ' at ' + str(datetime.datetime.now()))\r\n"
      ],
      "execution_count": 13,
      "outputs": [
        {
          "output_type": "stream",
          "text": [
            "Verified up to 4370 at 2021-02-04 22:43:09.156160\n"
          ],
          "name": "stdout"
        }
      ]
    },
    {
      "cell_type": "markdown",
      "metadata": {
        "id": "CJQEWKnbHJfF"
      },
      "source": [
        "## Basic Probability Theory Question\n",
        "A dark room contains two barrels. The first barrel is filled with green marbles, the second is filled with a half-and-half mixture of green and blue marbles. So there's a 100% chance of choosing a green marble from the first barrel, and a 50% chance of choosing either color in the second barrel. You reach into one of the barrels (it's dark so you don't know which one) and select a marble at random. It's green. You select another. It's green too. You select a third, a fourth, a fifth, etc. Green each time. What is the *minimum* number of marbles you need to select to *exceed* a probability of 99% that you are picking them out of the all-green barrel? (Note that there are enough marbles so that the answer does not depend on how many marbles are in the second barrel.)\n"
      ]
    },
    {
      "cell_type": "code",
      "metadata": {
        "id": "EH8chf8WVqzN",
        "outputId": "ad7bba21-5b87-4fd9-f314-d5b82ef9e4a6",
        "colab": {
          "base_uri": "https://localhost:8080/"
        }
      },
      "source": [
        "def greenProb(n):\r\n",
        "  return (1/2) ** n\r\n",
        "\r\n",
        "def blueProb(n):\r\n",
        "  return 1 - (1/2) ** n\r\n",
        "\r\n",
        "for n in range(10):\r\n",
        "  print(f'n: {n}')\r\n",
        "  print(f'green: {greenProb(n)}')\r\n",
        "  print(f'blue: {blueProb(n)}')\r\n",
        "  print()"
      ],
      "execution_count": 14,
      "outputs": [
        {
          "output_type": "stream",
          "text": [
            "n: 0\n",
            "green: 1.0\n",
            "blue: 0.0\n",
            "\n",
            "n: 1\n",
            "green: 0.5\n",
            "blue: 0.5\n",
            "\n",
            "n: 2\n",
            "green: 0.25\n",
            "blue: 0.75\n",
            "\n",
            "n: 3\n",
            "green: 0.125\n",
            "blue: 0.875\n",
            "\n",
            "n: 4\n",
            "green: 0.0625\n",
            "blue: 0.9375\n",
            "\n",
            "n: 5\n",
            "green: 0.03125\n",
            "blue: 0.96875\n",
            "\n",
            "n: 6\n",
            "green: 0.015625\n",
            "blue: 0.984375\n",
            "\n",
            "n: 7\n",
            "green: 0.0078125\n",
            "blue: 0.9921875\n",
            "\n",
            "n: 8\n",
            "green: 0.00390625\n",
            "blue: 0.99609375\n",
            "\n",
            "n: 9\n",
            "green: 0.001953125\n",
            "blue: 0.998046875\n",
            "\n"
          ],
          "name": "stdout"
        }
      ]
    },
    {
      "cell_type": "markdown",
      "metadata": {
        "id": "wdS0ZcmgWsAU"
      },
      "source": [
        "7 consecutively green marbles are required to be more than 99% sure you are pulling from the green barrel"
      ]
    },
    {
      "cell_type": "markdown",
      "metadata": {
        "id": "hyndetfEHJfG"
      },
      "source": [
        "## A Related But Deeper Basic Probability Theory Question\n",
        "Take a deep breath. Suppose Shakespeare's account is accurate and Julius Caesar gasped \"You too, Brutus\" before breathing his last. What is the probability that you just inhaled a molecule that Julius Caesar exhaled in his dying breath?\n",
        "\n",
        "Assume that after more than two thousand years the exhaled molecules are uniformly spread about the world and the vast majority are still free in the atmosphere. Assume further that there are $10^{44}$ molecules of air in the world, and that your inhaled quantity and Caesar's exhaled quantity were each about $2.2 \\times 10^{22}$ molecules.\n",
        "### Hint\n",
        "If a number $x$ is small, then $(1 - x)$ is approximately equal to $e^{-x}$.\n"
      ]
    },
    {
      "cell_type": "code",
      "metadata": {
        "id": "0cqb295dOOsg",
        "outputId": "9b3b8d06-fd61-4b49-bf53-2b5297502303",
        "colab": {
          "base_uri": "https://localhost:8080/"
        }
      },
      "source": [
        "from math import e\r\n",
        "\r\n",
        "breathMols = (2.2 * (10 ** 22))\r\n",
        "ceasarsBreath = breathMols / (10**44)\r\n",
        "print(1 - e ** (-ceasarsBreath * breathMols))\r\n"
      ],
      "execution_count": 15,
      "outputs": [
        {
          "output_type": "stream",
          "text": [
            "0.9920929459484066\n"
          ],
          "name": "stdout"
        }
      ]
    },
    {
      "cell_type": "markdown",
      "metadata": {
        "id": "Mp5yYOEXXyJo"
      },
      "source": [
        "First we calculate the ratio of Ceasar's breath within the total atmosphere. By using the hint above we know e raised to Ceasars breath in the atmosphere times our breath intake is the probability we do not take in a molecule. By subtracting this from 1, we get the probability we breathe in a molecule expelled in Ceasars last breath. This is much higher than we were expecting. The site https://puzzlemath.blogspot.com/2011/06/julius-caesars-last-breath.html was used for reference."
      ]
    },
    {
      "cell_type": "markdown",
      "metadata": {
        "id": "UOd5qrUkHJfH"
      },
      "source": [
        "## What is True?\n",
        "Assess yourself on how you did using the checkboxes below. Check a box by putting an 'X' in it only if it is warranted.\n"
      ]
    },
    {
      "cell_type": "markdown",
      "metadata": {
        "id": "yKp46KfBHJfH"
      },
      "source": [
        "### What is true of my experience in general?\n",
        "(5 points each, 15 points total)\n",
        "- [ ] I had fun.\n",
        "- [ ] I learned something new.\n",
        "- [ ] I achieved something meaningful, or something I can build upon at a later time."
      ]
    },
    {
      "cell_type": "markdown",
      "metadata": {
        "id": "YDrmqp6VHJfH"
      },
      "source": [
        "### What is true of my report on what I learned?\n",
        "(5 points each, 25 points total)\n",
        "- [ ] I wrote a sufficient number of well-written sentences.\n",
        "- [ ] My report is free of \"mechanical infelicities\" (misspelled words, grammatical errors, punctuation errors, etc.).\n",
        "- [ ] I reported on any connections I found between this investigation and something I already know.\n",
        "- [ ] I reported who were and what contribution each of my collaborators made.\n",
        "- [ ] I reported on how many numbers I was able to verify with a time/computation budget of 24 hours (in a row).\n"
      ]
    },
    {
      "cell_type": "markdown",
      "metadata": {
        "id": "gJ_lW5-nHJfI"
      },
      "source": [
        "### What is true about my answers?\n",
        "(15 points each, 60 points total)\n",
        "- [ ] I figured out how to run a Python program continuously for at least 24 hours.\n",
        "- [ ] I refrained from printing out anything except the highest number I verified, knowing that printing just slows a program down.\n",
        "- [ ] I got the right answer for the first probability theory question.\n",
        "- [ ] I got the right answer for the second probability theory question.\n"
      ]
    },
    {
      "cell_type": "code",
      "metadata": {
        "id": "MU-52jW5HJfJ"
      },
      "source": [
        ""
      ],
      "execution_count": null,
      "outputs": []
    }
  ]
}